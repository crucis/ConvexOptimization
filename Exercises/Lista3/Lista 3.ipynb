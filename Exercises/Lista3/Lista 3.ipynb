{
 "cells": [
  {
   "cell_type": "code",
   "execution_count": 1,
   "metadata": {},
   "outputs": [],
   "source": [
    "import sys\n",
    "if '../..' not in sys.path:\n",
    "    sys.path.append('../..')\n",
    "    \n",
    "import time\n",
    "import numpy as np\n",
    "from scipy import optimize\n",
    "\n",
    "from functions import functionObj, functionObj_multiDim\n",
    "from functions import exercise61, rosenbrock\n",
    "from models.optimizers import ConjugateGradientAlgorithm\n",
    "from run_exercises import run_exercise"
   ]
  },
  {
   "cell_type": "markdown",
   "metadata": {},
   "source": [
    "## Exercício 6.1 do Antoniou\n",
    "\n",
    "Use ConjugateGradientAlgorithm to minimize $f(x) = \\frac{1}{2}\\mathbf{x}^T\\mathbf{Qx} + \\mathbf{b}^T\\mathbf{x}$"
   ]
  },
  {
   "cell_type": "code",
   "execution_count": 2,
   "metadata": {},
   "outputs": [
    {
     "name": "stdout",
     "output_type": "stream",
     "text": [
      "-----------Non-linear Conjugate from Scipy-----------\n",
      "Optimization terminated successfully.\n",
      "         Current function value: -0.119076\n",
      "         Iterations: 17\n",
      "         Function evaluations: 594\n",
      "         Gradient evaluations: 33\n",
      "X:  [ 0.03423645  0.02423382  0.02423382  0.03423645 -0.00143385 -0.02088653\n",
      " -0.02088653 -0.00143385  0.03322047  0.02738492  0.02738492  0.03322047\n",
      " -0.00662874 -0.00486495 -0.00486493 -0.00662874]\n",
      "F:  -0.11907560047251368\n",
      "Function evals: 594\n",
      "Gradient evals: 0\n",
      "All evals: 594\n",
      "Time: 0.289803 s\n",
      "-----------ConjugateDescentAlgorithm-----------\n",
      "X:  [ 0.03423704  0.02423337  0.02423337  0.03423704 -0.00143237 -0.02088798\n",
      " -0.02088798 -0.00143237  0.03321913  0.02738606  0.02738606  0.03321913\n",
      " -0.00663057 -0.00486331 -0.00486331 -0.00663057]\n",
      "F:  -0.11907560050980802\n",
      "Function evals: 9\n",
      "Gradient evals: 9\n",
      "All evals: 18\n",
      "Time: 0.051371 s\n"
     ]
    }
   ],
   "source": [
    "x_0 = np.zeros(16)\n",
    "f_x = exercise61\n",
    "\n",
    "print('-----------Non-linear Conjugate from Scipy-----------')\n",
    "\n",
    "f_x_obj = functionObj(f_x)\n",
    "start_time_scipy = time.process_time()\n",
    "x_min, f_min, _, _, _, = optimize.fmin_cg(f_x_obj, x_0, full_output=True)\n",
    "scipy_time_spent = time.process_time() - start_time_scipy\n",
    "x_min = f_x_obj.best_x\n",
    "f_min = f_x_obj.best_f\n",
    "print('X: ', x_min)\n",
    "print('F: ', f_min)\n",
    "print('Function evals: %d\\nGradient evals: %d\\nAll evals: %d'%(f_x_obj.fevals, f_x_obj.grad_evals, f_x_obj.nevals))\n",
    "print('Time: %f s'%scipy_time_spent)\n",
    "\n",
    "print('-----------ConjugateDescentAlgorithm-----------')\n",
    "f_x_obj = functionObj(f_x)\n",
    "\n",
    "opt = ConjugateGradientAlgorithm(f_x_obj,x_0,  1e3, xtol=1e-6)\n",
    "conju_start_time = time.process_time()\n",
    "opt.find_min()\n",
    "conjugate_spent_time = time.process_time() - conju_start_time\n",
    "x_min = f_x_obj.best_x._value\n",
    "f_min = f_x_obj.best_f._value\n",
    "print('X: ', x_min)\n",
    "print('F: ', f_min)\n",
    "print('Function evals: %d\\nGradient evals: %d\\nAll evals: %d'%(f_x_obj.fevals, f_x_obj.grad_evals, f_x_obj.nevals))\n",
    "print('Time: %f s'%conjugate_spent_time)"
   ]
  },
  {
   "cell_type": "markdown",
   "metadata": {},
   "source": [
    "## Exercício 6.2\n",
    "\n",
    "Use Fletcher-Reeves algorithm to find the minimizer of the Rosenbrock function.\n",
    "\n",
    "$f(x)=100(x_2-x_1^2)^2+(1-x_1)^2$\n",
    "\n",
    "Use $\\epsilon = 10^{-6}$ and three initial points:\n",
    "\n",
    "$\\mathbf{x}_0 = [-2~~2]^T$\n",
    "$\\mathbf{x}_0 = [2~~-2]^T$\n",
    "$\\mathbf{x}_0 = [-2~~-2]^T$"
   ]
  },
  {
   "cell_type": "code",
   "execution_count": 3,
   "metadata": {},
   "outputs": [
    {
     "data": {
      "text/plain": [
       "<Figure size 640x480 with 1 Axes>"
      ]
     },
     "metadata": {},
     "output_type": "display_data"
    }
   ],
   "source": [
    "solution_62 = run_exercise(rosenbrock, ConjugateGradientAlgorithm)"
   ]
  },
  {
   "cell_type": "code",
   "execution_count": 4,
   "metadata": {},
   "outputs": [
    {
     "data": {
      "text/html": [
       "<div>\n",
       "<style>\n",
       "    .dataframe thead tr:only-child th {\n",
       "        text-align: right;\n",
       "    }\n",
       "\n",
       "    .dataframe thead th {\n",
       "        text-align: left;\n",
       "    }\n",
       "\n",
       "    .dataframe tbody tr th {\n",
       "        vertical-align: top;\n",
       "    }\n",
       "</style>\n",
       "<table border=\"1\" class=\"dataframe\">\n",
       "  <thead>\n",
       "    <tr style=\"text-align: right;\">\n",
       "      <th></th>\n",
       "      <th>best_f</th>\n",
       "      <th>fevals</th>\n",
       "      <th>grad_evals</th>\n",
       "      <th>nevals</th>\n",
       "      <th>run_time (s)</th>\n",
       "    </tr>\n",
       "  </thead>\n",
       "  <tbody>\n",
       "    <tr>\n",
       "      <th>[-2 -2]T</th>\n",
       "      <td>0.661405</td>\n",
       "      <td>79</td>\n",
       "      <td>79</td>\n",
       "      <td>158</td>\n",
       "      <td>0.109042</td>\n",
       "    </tr>\n",
       "    <tr>\n",
       "      <th>[-2 2]T</th>\n",
       "      <td>5.921253</td>\n",
       "      <td>1000000</td>\n",
       "      <td>1000001</td>\n",
       "      <td>2000001</td>\n",
       "      <td>2149.233915</td>\n",
       "    </tr>\n",
       "    <tr>\n",
       "      <th>[2 -2]T</th>\n",
       "      <td>1.157815</td>\n",
       "      <td>52</td>\n",
       "      <td>52</td>\n",
       "      <td>104</td>\n",
       "      <td>0.162798</td>\n",
       "    </tr>\n",
       "  </tbody>\n",
       "</table>\n",
       "</div>"
      ],
      "text/plain": [
       "            best_f   fevals grad_evals   nevals  run_time (s)\n",
       "[-2 -2]T  0.661405       79         79      158      0.109042\n",
       "[-2 2]T   5.921253  1000000    1000001  2000001   2149.233915\n",
       "[2 -2]T   1.157815       52         52      104      0.162798"
      ]
     },
     "execution_count": 4,
     "metadata": {},
     "output_type": "execute_result"
    }
   ],
   "source": [
    "solution_62[['best_f', 'fevals', 'grad_evals', 'nevals', 'run_time (s)']]"
   ]
  },
  {
   "cell_type": "code",
   "execution_count": null,
   "metadata": {},
   "outputs": [],
   "source": []
  }
 ],
 "metadata": {
  "kernelspec": {
   "display_name": "Python 3",
   "language": "python",
   "name": "python3"
  },
  "language_info": {
   "codemirror_mode": {
    "name": "ipython",
    "version": 3
   },
   "file_extension": ".py",
   "mimetype": "text/x-python",
   "name": "python",
   "nbconvert_exporter": "python",
   "pygments_lexer": "ipython3",
   "version": "3.6.6"
  }
 },
 "nbformat": 4,
 "nbformat_minor": 2
}
