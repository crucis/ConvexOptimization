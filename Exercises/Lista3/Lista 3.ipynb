{
 "cells": [
  {
   "cell_type": "code",
   "execution_count": 14,
   "metadata": {},
   "outputs": [],
   "source": [
    "import sys\n",
    "if '../..' not in sys.path:\n",
    "    sys.path.append('../..')\n",
    "    \n",
    "import time\n",
    "import numpy as np\n",
    "from scipy import optimize\n",
    "\n",
    "from functions import functionObj, functionObj_multiDim\n",
    "from functions import exercise61, rosenbrock, exercise54\n",
    "from models.optimizers import ConjugateGradientAlgorithm,\\\n",
    "                              InexactLineSearch,\\\n",
    "                              BacktrackingLineSearch,\\\n",
    "                              FletcherReevesAlgorithm,\\\n",
    "                              QuasiNewtonAlgorithm,\\\n",
    "                              SteepestDescentAlgorithm\n",
    "from run_exercises import run_exercise"
   ]
  },
  {
   "cell_type": "markdown",
   "metadata": {},
   "source": [
    "## Exercício 6.1 do Antoniou\n",
    "\n",
    "Use ConjugateGradientAlgorithm to minimize $f(x) = \\frac{1}{2}\\mathbf{x}^T\\mathbf{Qx} + \\mathbf{b}^T\\mathbf{x}$"
   ]
  },
  {
   "cell_type": "code",
   "execution_count": 2,
   "metadata": {},
   "outputs": [
    {
     "name": "stdout",
     "output_type": "stream",
     "text": [
      "-----------Non-linear Conjugate from Scipy-----------\n",
      "Optimization terminated successfully.\n",
      "         Current function value: -0.119076\n",
      "         Iterations: 17\n",
      "         Function evaluations: 594\n",
      "         Gradient evaluations: 33\n",
      "X:  [ 0.03423645  0.02423382  0.02423382  0.03423645 -0.00143385 -0.02088653\n",
      " -0.02088653 -0.00143385  0.03322047  0.02738492  0.02738492  0.03322047\n",
      " -0.00662874 -0.00486494 -0.00486493 -0.00662874]\n",
      "F:  -0.11907560047255539\n",
      "Function evals: 594\n",
      "Gradient evals: 0\n",
      "All evals: 594\n",
      "Time: 0.546668 s\n",
      "-----------ConjugateDescentAlgorithm-----------\n",
      "X:  [ 0.03423704  0.02423337  0.02423337  0.03423704 -0.00143237 -0.02088798\n",
      " -0.02088798 -0.00143237  0.03321913  0.02738606  0.02738606  0.03321913\n",
      " -0.00663057 -0.00486331 -0.00486331 -0.00663057]\n",
      "F:  -0.119075600509808\n",
      "Function evals: 9\n",
      "Gradient evals: 9\n",
      "All evals: 18\n",
      "Time: 0.094684 s\n"
     ]
    }
   ],
   "source": [
    "x_0 = np.zeros(16)\n",
    "f_x = exercise61\n",
    "\n",
    "print('-----------Non-linear Conjugate from Scipy-----------')\n",
    "\n",
    "f_x_obj = functionObj(f_x)\n",
    "start_time_scipy = time.process_time()\n",
    "x_min, f_min, _, _, _, = optimize.fmin_cg(f_x_obj, x_0, full_output=True)\n",
    "scipy_time_spent = time.process_time() - start_time_scipy\n",
    "x_min = f_x_obj.best_x\n",
    "f_min = f_x_obj.best_f\n",
    "print('x*: ', x_min)\n",
    "print('F(x*): ', f_min)\n",
    "print('Function evals: %d\\nGradient evals: %d\\nAll evals: %d'%(f_x_obj.fevals, f_x_obj.grad_evals, f_x_obj.nevals))\n",
    "print('Time: %f s'%scipy_time_spent)\n",
    "\n",
    "print('-----------ConjugateDescentAlgorithm-----------')\n",
    "f_x_obj = functionObj(f_x)\n",
    "\n",
    "opt = ConjugateGradientAlgorithm(f_x_obj,x_0,  1e3, xtol=1e-6)\n",
    "conju_start_time = time.process_time()\n",
    "opt.find_min()\n",
    "conjugate_spent_time = time.process_time() - conju_start_time\n",
    "x_min = f_x_obj.best_x._value\n",
    "f_min = f_x_obj.best_f._value\n",
    "print('x*: ', x_min)\n",
    "print('F(x*): ', f_min)\n",
    "print('Function evals: %d\\nGradient evals: %d\\nAll evals: %d'%(f_x_obj.fevals, f_x_obj.grad_evals, f_x_obj.nevals))\n",
    "print('Time: %f s'%conjugate_spent_time)"
   ]
  },
  {
   "cell_type": "markdown",
   "metadata": {},
   "source": [
    "## Exercício 6.2\n",
    "\n",
    "Use Fletcher-Reeves algorithm to find the minimizer of the Rosenbrock function.\n",
    "\n",
    "$f(x)=100(x_2-x_1^2)^2+(1-x_1)^2$\n",
    "\n",
    "Use $\\epsilon = 10^{-6}$ and three initial points:\n",
    "\n",
    "$\\mathbf{x}_0 = [-2~~2]^T$\n",
    "$\\mathbf{x}_0 = [2~~-2]^T$\n",
    "$\\mathbf{x}_0 = [-2~~-2]^T$"
   ]
  },
  {
   "cell_type": "code",
   "execution_count": 3,
   "metadata": {},
   "outputs": [
    {
     "data": {
      "text/plain": [
       "<Figure size 640x480 with 1 Axes>"
      ]
     },
     "metadata": {},
     "output_type": "display_data"
    }
   ],
   "source": [
    "line_search = BacktrackingLineSearch\n",
    "\n",
    "solution_62 = run_exercise(rosenbrock, FletcherReevesAlgorithm, line_search=line_search)"
   ]
  },
  {
   "cell_type": "code",
   "execution_count": 4,
   "metadata": {},
   "outputs": [
    {
     "data": {
      "text/html": [
       "<div>\n",
       "<style scoped>\n",
       "    .dataframe tbody tr th:only-of-type {\n",
       "        vertical-align: middle;\n",
       "    }\n",
       "\n",
       "    .dataframe tbody tr th {\n",
       "        vertical-align: top;\n",
       "    }\n",
       "\n",
       "    .dataframe thead th {\n",
       "        text-align: right;\n",
       "    }\n",
       "</style>\n",
       "<table border=\"1\" class=\"dataframe\">\n",
       "  <thead>\n",
       "    <tr style=\"text-align: right;\">\n",
       "      <th></th>\n",
       "      <th>best_x</th>\n",
       "      <th>best_f</th>\n",
       "      <th>fevals</th>\n",
       "      <th>grad_evals</th>\n",
       "      <th>nevals</th>\n",
       "      <th>run_time (s)</th>\n",
       "    </tr>\n",
       "  </thead>\n",
       "  <tbody>\n",
       "    <tr>\n",
       "      <th>[2 -2]T</th>\n",
       "      <td>[0.9997719422824327, 0.999548468565804]</td>\n",
       "      <td>5.406422e-08</td>\n",
       "      <td>101271</td>\n",
       "      <td>3031</td>\n",
       "      <td>104302</td>\n",
       "      <td>14.684712</td>\n",
       "    </tr>\n",
       "    <tr>\n",
       "      <th>[-2 2]T</th>\n",
       "      <td>[0.9995921842277583, 0.9991940407502706]</td>\n",
       "      <td>1.753501e-07</td>\n",
       "      <td>119676</td>\n",
       "      <td>3637</td>\n",
       "      <td>123313</td>\n",
       "      <td>17.333351</td>\n",
       "    </tr>\n",
       "    <tr>\n",
       "      <th>[-2 -2]T</th>\n",
       "      <td>[1.0000759613157117, 1.0001370721205773]</td>\n",
       "      <td>2.784103e-08</td>\n",
       "      <td>121299</td>\n",
       "      <td>3643</td>\n",
       "      <td>124942</td>\n",
       "      <td>17.459422</td>\n",
       "    </tr>\n",
       "  </tbody>\n",
       "</table>\n",
       "</div>"
      ],
      "text/plain": [
       "                                            best_x        best_f  fevals  \\\n",
       "[2 -2]T    [0.9997719422824327, 0.999548468565804]  5.406422e-08  101271   \n",
       "[-2 2]T   [0.9995921842277583, 0.9991940407502706]  1.753501e-07  119676   \n",
       "[-2 -2]T  [1.0000759613157117, 1.0001370721205773]  2.784103e-08  121299   \n",
       "\n",
       "         grad_evals  nevals  run_time (s)  \n",
       "[2 -2]T        3031  104302     14.684712  \n",
       "[-2 2]T        3637  123313     17.333351  \n",
       "[-2 -2]T       3643  124942     17.459422  "
      ]
     },
     "execution_count": 4,
     "metadata": {},
     "output_type": "execute_result"
    }
   ],
   "source": [
    "solution_62[['best_x', 'best_f', 'fevals', 'grad_evals', 'nevals', 'run_time (s)']]"
   ]
  },
  {
   "cell_type": "markdown",
   "metadata": {},
   "source": [
    "## Exercício 6.3\n",
    "\n",
    "minimize $f(x) = 5x_1^2-9x_1x_2+4.075x_2^2+x_1$\n",
    "\n",
    "with $\\mathbf{x}_0=[1~~1]^T$ and $\\epsilon=3\\times10^-6$"
   ]
  },
  {
   "cell_type": "code",
   "execution_count": 8,
   "metadata": {},
   "outputs": [],
   "source": [
    "solution_63 = run_exercise(exercise54, ConjugateGradientAlgorithm, plot_charts=False)"
   ]
  },
  {
   "cell_type": "code",
   "execution_count": 19,
   "metadata": {},
   "outputs": [
    {
     "name": "stdout",
     "output_type": "stream",
     "text": [
      "SteepestDescentAlgorithm\n",
      "x*:  [-16.29397364 -17.99338112]\n",
      "F(x*):  -8.14999888070452\n",
      "Function evals: 2001\n",
      "Gradient evals: 1001\n",
      "All evals: 3002\n",
      "Time: 1.067420 s\n"
     ]
    }
   ],
   "source": [
    "f_x = functionObj(exercise54)\n",
    "opt = SteepestDescentAlgorithm(func = f_x, x_0 = np.array([1.0, 1.0]),  xtol=3e-6)\n",
    "conju_start_time = time.process_time()\n",
    "opt.find_min()\n",
    "conjugate_spent_time = time.process_time() - conju_start_time\n",
    "x_min = f_x.best_x\n",
    "f_min = f_x.best_f\n",
    "print(SteepestDescentAlgorithm.__name__)\n",
    "print('x*: ', x_min)\n",
    "print('F(x*): ', f_min)\n",
    "print('Function evals: %d\\nGradient evals: %d\\nAll evals: %d'%(f_x.fevals, f_x.grad_evals, f_x.nevals))\n",
    "print('Time: %f s'%conjugate_spent_time)"
   ]
  },
  {
   "cell_type": "code",
   "execution_count": 20,
   "metadata": {},
   "outputs": [
    {
     "name": "stdout",
     "output_type": "stream",
     "text": [
      "ConjugateGradientAlgorithm\n",
      "x*:  [-16.3 -18. ]\n",
      "F(x*):  -8.149999999999824\n",
      "Function evals: 3\n",
      "Gradient evals: 3\n",
      "All evals: 6\n",
      "Time: 0.014103 s\n"
     ]
    }
   ],
   "source": [
    "f_x = functionObj(exercise54)\n",
    "opt = ConjugateGradientAlgorithm(func = f_x, x_0 = np.array([1.0, 1.0]),  xtol=3e-6)\n",
    "conju_start_time = time.process_time()\n",
    "opt.find_min()\n",
    "conjugate_spent_time = time.process_time() - conju_start_time\n",
    "x_min = f_x.best_x._value\n",
    "f_min = f_x.best_f._value\n",
    "print(ConjugateGradientAlgorithm.__name__)\n",
    "print('x*: ', x_min)\n",
    "print('F(x*): ', f_min)\n",
    "print('Function evals: %d\\nGradient evals: %d\\nAll evals: %d'%(f_x.fevals, f_x.grad_evals, f_x.nevals))\n",
    "print('Time: %f s'%conjugate_spent_time)"
   ]
  },
  {
   "cell_type": "markdown",
   "metadata": {},
   "source": [
    "## Exercício 7.7\n",
    "\n",
    "Implement a quasi-Newton algorithm based on the DFP formula and minimize:\n",
    "\n",
    "$f(x)=100(x_2-x_1^2)^2+(1-x_1)^2$\n",
    "\n",
    "Use $\\epsilon = 10^{-6}$ and three initial points:\n",
    "\n",
    "$\\mathbf{x}_0 = [-2~~2]^T$\n",
    "$\\mathbf{x}_0 = [2~~-2]^T$\n",
    "$\\mathbf{x}_0 = [-2~~-2]^T$"
   ]
  },
  {
   "cell_type": "code",
   "execution_count": 5,
   "metadata": {},
   "outputs": [
    {
     "data": {
      "image/png": "[encoded data removed]",
      "text/plain": [
       "<Figure size 432x288 with 1 Axes>"
      ]
     },
     "metadata": {
      "needs_background": "light"
     },
     "output_type": "display_data"
    }
   ],
   "source": [
    "solution_77_DFP = run_exercise(rosenbrock, QuasiNewtonAlgorithm, formula='DFP')"
   ]
  },
  {
   "cell_type": "code",
   "execution_count": 6,
   "metadata": {},
   "outputs": [
    {
     "data": {
      "text/html": [
       "<div>\n",
       "<style scoped>\n",
       "    .dataframe tbody tr th:only-of-type {\n",
       "        vertical-align: middle;\n",
       "    }\n",
       "\n",
       "    .dataframe tbody tr th {\n",
       "        vertical-align: top;\n",
       "    }\n",
       "\n",
       "    .dataframe thead th {\n",
       "        text-align: right;\n",
       "    }\n",
       "</style>\n",
       "<table border=\"1\" class=\"dataframe\">\n",
       "  <thead>\n",
       "    <tr style=\"text-align: right;\">\n",
       "      <th></th>\n",
       "      <th>best_x</th>\n",
       "      <th>best_f</th>\n",
       "      <th>fevals</th>\n",
       "      <th>grad_evals</th>\n",
       "      <th>nevals</th>\n",
       "      <th>run_time (s)</th>\n",
       "    </tr>\n",
       "  </thead>\n",
       "  <tbody>\n",
       "    <tr>\n",
       "      <th>[2 -2]T</th>\n",
       "      <td>[1.0006104751973983, 1.0012711872028497]</td>\n",
       "      <td>6.213231e-07</td>\n",
       "      <td>56</td>\n",
       "      <td>2039</td>\n",
       "      <td>2095</td>\n",
       "      <td>1.455443</td>\n",
       "    </tr>\n",
       "    <tr>\n",
       "      <th>[-2 2]T</th>\n",
       "      <td>[0.9944433187890923, 0.989249583948909]</td>\n",
       "      <td>4.190373e-05</td>\n",
       "      <td>80</td>\n",
       "      <td>2058</td>\n",
       "      <td>2138</td>\n",
       "      <td>1.449356</td>\n",
       "    </tr>\n",
       "    <tr>\n",
       "      <th>[-2 -2]T</th>\n",
       "      <td>[0.9957373840446976, 0.9917225990189015]</td>\n",
       "      <td>2.344431e-05</td>\n",
       "      <td>34</td>\n",
       "      <td>2025</td>\n",
       "      <td>2059</td>\n",
       "      <td>1.418772</td>\n",
       "    </tr>\n",
       "  </tbody>\n",
       "</table>\n",
       "</div>"
      ],
      "text/plain": [
       "                                            best_x        best_f fevals  \\\n",
       "[2 -2]T   [1.0006104751973983, 1.0012711872028497]  6.213231e-07     56   \n",
       "[-2 2]T    [0.9944433187890923, 0.989249583948909]  4.190373e-05     80   \n",
       "[-2 -2]T  [0.9957373840446976, 0.9917225990189015]  2.344431e-05     34   \n",
       "\n",
       "         grad_evals nevals  run_time (s)  \n",
       "[2 -2]T        2039   2095      1.455443  \n",
       "[-2 2]T        2058   2138      1.449356  \n",
       "[-2 -2]T       2025   2059      1.418772  "
      ]
     },
     "execution_count": 6,
     "metadata": {},
     "output_type": "execute_result"
    }
   ],
   "source": [
    "solution_77_DFP[['best_x', 'best_f', 'fevals', 'grad_evals', 'nevals', 'run_time (s)']]"
   ]
  },
  {
   "cell_type": "code",
   "execution_count": 25,
   "metadata": {},
   "outputs": [
    {
     "data": {
      "image/png": "[encoded data removed]",
      "text/plain": [
       "<Figure size 432x288 with 1 Axes>"
      ]
     },
     "metadata": {
      "needs_background": "light"
     },
     "output_type": "display_data"
    }
   ],
   "source": [
    "solution_77_BFGS = run_exercise(rosenbrock, QuasiNewtonAlgorithm, formula='BFGS')"
   ]
  },
  {
   "cell_type": "code",
   "execution_count": 26,
   "metadata": {},
   "outputs": [
    {
     "data": {
      "text/html": [
       "<div>\n",
       "<style scoped>\n",
       "    .dataframe tbody tr th:only-of-type {\n",
       "        vertical-align: middle;\n",
       "    }\n",
       "\n",
       "    .dataframe tbody tr th {\n",
       "        vertical-align: top;\n",
       "    }\n",
       "\n",
       "    .dataframe thead th {\n",
       "        text-align: right;\n",
       "    }\n",
       "</style>\n",
       "<table border=\"1\" class=\"dataframe\">\n",
       "  <thead>\n",
       "    <tr style=\"text-align: right;\">\n",
       "      <th></th>\n",
       "      <th>best_x</th>\n",
       "      <th>best_f</th>\n",
       "      <th>fevals</th>\n",
       "      <th>grad_evals</th>\n",
       "      <th>nevals</th>\n",
       "      <th>run_time (s)</th>\n",
       "    </tr>\n",
       "  </thead>\n",
       "  <tbody>\n",
       "    <tr>\n",
       "      <th>[2 -2]T</th>\n",
       "      <td>[0.9999978890274238, 0.999995887097943]</td>\n",
       "      <td>5.645148e-12</td>\n",
       "      <td>37</td>\n",
       "      <td>2027</td>\n",
       "      <td>2064</td>\n",
       "      <td>1.468832</td>\n",
       "    </tr>\n",
       "    <tr>\n",
       "      <th>[-2 2]T</th>\n",
       "      <td>[0.9999904366992792, 0.9999798639392066]</td>\n",
       "      <td>1.933760e-10</td>\n",
       "      <td>54</td>\n",
       "      <td>2044</td>\n",
       "      <td>2098</td>\n",
       "      <td>1.453572</td>\n",
       "    </tr>\n",
       "    <tr>\n",
       "      <th>[-2 -2]T</th>\n",
       "      <td>[1.0002026307799345, 1.0001969799541746]</td>\n",
       "      <td>4.380893e-06</td>\n",
       "      <td>49</td>\n",
       "      <td>2040</td>\n",
       "      <td>2089</td>\n",
       "      <td>1.453603</td>\n",
       "    </tr>\n",
       "  </tbody>\n",
       "</table>\n",
       "</div>"
      ],
      "text/plain": [
       "                                            best_x        best_f fevals  \\\n",
       "[2 -2]T    [0.9999978890274238, 0.999995887097943]  5.645148e-12     37   \n",
       "[-2 2]T   [0.9999904366992792, 0.9999798639392066]  1.933760e-10     54   \n",
       "[-2 -2]T  [1.0002026307799345, 1.0001969799541746]  4.380893e-06     49   \n",
       "\n",
       "         grad_evals nevals  run_time (s)  \n",
       "[2 -2]T        2027   2064      1.468832  \n",
       "[-2 2]T        2044   2098      1.453572  \n",
       "[-2 -2]T       2040   2089      1.453603  "
      ]
     },
     "execution_count": 26,
     "metadata": {},
     "output_type": "execute_result"
    }
   ],
   "source": [
    "solution_77_BFGS[['best_x', 'best_f', 'fevals', 'grad_evals', 'nevals', 'run_time (s)']]"
   ]
  },
  {
   "cell_type": "markdown",
   "metadata": {},
   "source": [
    "## Exercício 7.8\n",
    "\n",
    "minimize $f(x) = 5x_1^2-9x_1x_2+4.075x_2^2+x_1$\n",
    "\n",
    "with $\\mathbf{x}_0=[0~~0]^T$ and $\\epsilon=3\\times10^-7$"
   ]
  },
  {
   "cell_type": "code",
   "execution_count": 28,
   "metadata": {},
   "outputs": [
    {
     "name": "stdout",
     "output_type": "stream",
     "text": [
      "QuasiNewtonAlgorithm with BFGS\n",
      "x*:  [-16.3 -18. ]\n",
      "F(x*):  -8.149999999999988\n",
      "Function evals: 5\n",
      "Gradient evals: 2004\n",
      "All evals: 2009\n",
      "Time: 1.889595 s\n"
     ]
    }
   ],
   "source": [
    "f_x = functionObj(exercise54)\n",
    "opt = QuasiNewtonAlgorithm(func = f_x, x_0 = np.array([0.0, 0.0]), formula='BFGS', xtol=3e-7)\n",
    "conju_start_time = time.process_time()\n",
    "opt.find_min()\n",
    "conjugate_spent_time = time.process_time() - conju_start_time\n",
    "x_min = f_x.best_x\n",
    "f_min = f_x.best_f\n",
    "print(QuasiNewtonAlgorithm.__name__ + ' with BFGS')\n",
    "print('x*: ', x_min)\n",
    "print('F(x*): ', f_min)\n",
    "print('Function evals: %d\\nGradient evals: %d\\nAll evals: %d'%(f_x.fevals, f_x.grad_evals, f_x.nevals))\n",
    "print('Time: %f s'%conjugate_spent_time)"
   ]
  },
  {
   "cell_type": "code",
   "execution_count": 24,
   "metadata": {},
   "outputs": [
    {
     "name": "stdout",
     "output_type": "stream",
     "text": [
      "QuasiNewtonAlgorithm with DFP\n",
      "x*:  [-16.3 -18. ]\n",
      "F(x*):  -8.149999999999725\n",
      "Function evals: 5\n",
      "Gradient evals: 2004\n",
      "All evals: 2009\n",
      "Time: 1.883200 s\n"
     ]
    }
   ],
   "source": [
    "f_x = functionObj(exercise54)\n",
    "opt = QuasiNewtonAlgorithm(func = f_x, x_0 = np.array([0.0, 0.0]), formula='DFP', xtol=3e-7)\n",
    "conju_start_time = time.process_time()\n",
    "opt.find_min()\n",
    "conjugate_spent_time = time.process_time() - conju_start_time\n",
    "x_min = f_x.best_x\n",
    "f_min = f_x.best_f\n",
    "print(QuasiNewtonAlgorithm.__name__ + ' with DFP')\n",
    "print('x*: ', x_min)\n",
    "print('F(x*): ', f_min)\n",
    "print('Function evals: %d\\nGradient evals: %d\\nAll evals: %d'%(f_x.fevals, f_x.grad_evals, f_x.nevals))\n",
    "print('Time: %f s'%conjugate_spent_time)"
   ]
  },
  {
   "cell_type": "code",
   "execution_count": null,
   "metadata": {},
   "outputs": [],
   "source": []
  }
 ],
 "metadata": {
  "kernelspec": {
   "display_name": "Python 3",
   "language": "python",
   "name": "python3"
  },
  "language_info": {
   "codemirror_mode": {
    "name": "ipython",
    "version": 3
   },
   "file_extension": ".py",
   "mimetype": "text/x-python",
   "name": "python",
   "nbconvert_exporter": "python",
   "pygments_lexer": "ipython3",
   "version": "3.6.6"
  }
 },
 "nbformat": 4,
 "nbformat_minor": 2
}
