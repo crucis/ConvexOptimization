{
 "cells": [
  {
   "cell_type": "markdown",
   "metadata": {},
   "source": [
    "# Lista 4\n",
    "2018/3 \n",
    "\n",
    "Aluno: Pedro Bandeira de Mello Martins \n",
    "\n",
    "Disciplina: CPE773 - Otimização Convexa \n",
    "\n",
    "Professor: Wallace A. Martins PEE/COPPE - UFRJ"
   ]
  },
  {
   "cell_type": "code",
   "execution_count": 1,
   "metadata": {},
   "outputs": [],
   "source": [
    "import sys\n",
    "if '../..' not in sys.path:\n",
    "    sys.path.append('../..')\n",
    "import warnings\n",
    "warnings.filterwarnings('ignore')\n",
    "from functions import exercise1116,\\\n",
    "                        question42,\\\n",
    "                        question43,\\\n",
    "                        question44,\\\n",
    "                        question45,\\\n",
    "                        functionObj\n",
    "from models.optimizers import SteepestDescentAlgorithm,\\\n",
    "                              FletcherReevesAlgorithm,\\\n",
    "                              BacktrackingLineSearch,\\\n",
    "                              FibonacciSearch,\\\n",
    "                              ConjugateGradientAlgorithm,\\\n",
    "                              QuasiNewtonAlgorithm, \\\n",
    "                              BasicNewtonAlgorithm \n",
    "from models.utils import UnconstrainProblem\n",
    "from autograd import numpy as np\n",
    "from run_exercise import run_exercise"
   ]
  },
  {
   "cell_type": "markdown",
   "metadata": {},
   "source": [
    "## Questão 1\n",
    "\n",
    "Para o problema:\n",
    "\n",
    "minimize \n",
    "\n",
    "$f(x) = x_1 + 1.5x_2 + x_3 + x_4$\n",
    "\n",
    "subject to: \n",
    "\n",
    "$x_1 + 2x_2 + x_3 +2x_4 = 3$\n",
    "\n",
    "$x_1 + x_2 + 2x_3 + 4x_4 = 5$\n",
    "            \n",
    "$x_i \\geq 0$"
   ]
  },
  {
   "cell_type": "code",
   "execution_count": 2,
   "metadata": {},
   "outputs": [],
   "source": [
    "f_x, eqc, iqc = exercise1116()\n",
    "initial_x = np.array([0, 0], dtype=np.float64)"
   ]
  },
  {
   "cell_type": "code",
   "execution_count": 3,
   "metadata": {},
   "outputs": [
    {
     "name": "stdout",
     "output_type": "stream",
     "text": [
      "QuasiNewtonAlgorithm didn't converge. AssertionError('X out of domain',)\n",
      "minimize didn't converge. AttributeError('nhev',)\n"
     ]
    }
   ],
   "source": [
    "solution = run_exercise(f_x, eqc, iqc,\n",
    "             [(SteepestDescentAlgorithm, BacktrackingLineSearch), \n",
    "              ConjugateGradientAlgorithm, \n",
    "              QuasiNewtonAlgorithm, \n",
    "              (BasicNewtonAlgorithm, BacktrackingLineSearch)],\n",
    "                        initial_x,\n",
    "                       plot_charts=False)"
   ]
  },
  {
   "cell_type": "code",
   "execution_count": 4,
   "metadata": {},
   "outputs": [
    {
     "data": {
      "text/html": [
       "<div>\n",
       "<style scoped>\n",
       "    .dataframe tbody tr th:only-of-type {\n",
       "        vertical-align: middle;\n",
       "    }\n",
       "\n",
       "    .dataframe tbody tr th {\n",
       "        vertical-align: top;\n",
       "    }\n",
       "\n",
       "    .dataframe thead th {\n",
       "        text-align: right;\n",
       "    }\n",
       "</style>\n",
       "<table border=\"1\" class=\"dataframe\">\n",
       "  <thead>\n",
       "    <tr style=\"text-align: right;\">\n",
       "      <th></th>\n",
       "      <th>best_f</th>\n",
       "      <th>best_x</th>\n",
       "      <th>fevals</th>\n",
       "      <th>grad_evals</th>\n",
       "      <th>nevals</th>\n",
       "      <th>run_time (s)</th>\n",
       "    </tr>\n",
       "  </thead>\n",
       "  <tbody>\n",
       "    <tr>\n",
       "      <th>SteepestDescentAlgorithm + BacktrackingLineSearch</th>\n",
       "      <td>1.6666708720504597</td>\n",
       "      <td>[1e-07, 0.3333333, 2e-07, 1.1666666]</td>\n",
       "      <td>12511</td>\n",
       "      <td>1372</td>\n",
       "      <td>13883</td>\n",
       "      <td>8.423343</td>\n",
       "    </tr>\n",
       "    <tr>\n",
       "      <th>ConjugateGradientAlgorithm</th>\n",
       "      <td>1.970588699457983</td>\n",
       "      <td>[0.2352941, 0.254902, 0.4509804, 0.9019608]</td>\n",
       "      <td>4000</td>\n",
       "      <td>4004</td>\n",
       "      <td>8004</td>\n",
       "      <td>22.384894</td>\n",
       "    </tr>\n",
       "    <tr>\n",
       "      <th>QuasiNewtonAlgorithm</th>\n",
       "      <td>1.9743015462053486</td>\n",
       "      <td>[0.2352941, 0.254902, 0.4509804, 0.9019608]</td>\n",
       "      <td>5</td>\n",
       "      <td>10</td>\n",
       "      <td>15</td>\n",
       "      <td>0.020881</td>\n",
       "    </tr>\n",
       "    <tr>\n",
       "      <th>BasicNewtonAlgorithm + BacktrackingLineSearch</th>\n",
       "      <td>1.6666708175852056</td>\n",
       "      <td>[5e-07, 0.3333332, 4e-07, 1.1666664]</td>\n",
       "      <td>7075</td>\n",
       "      <td>2037</td>\n",
       "      <td>9112</td>\n",
       "      <td>14.320457</td>\n",
       "    </tr>\n",
       "    <tr>\n",
       "      <th>minimize</th>\n",
       "      <td>1.6667928434652193</td>\n",
       "      <td>[0.000252, 0.3332493, 7.26e-05, 1.1665884]</td>\n",
       "      <td>390</td>\n",
       "      <td>0</td>\n",
       "      <td>390</td>\n",
       "      <td>0.164817</td>\n",
       "    </tr>\n",
       "  </tbody>\n",
       "</table>\n",
       "</div>"
      ],
      "text/plain": [
       "                                                               best_f  \\\n",
       "SteepestDescentAlgorithm + BacktrackingLineSearch  1.6666708720504597   \n",
       "ConjugateGradientAlgorithm                          1.970588699457983   \n",
       "QuasiNewtonAlgorithm                               1.9743015462053486   \n",
       "BasicNewtonAlgorithm + BacktrackingLineSearch      1.6666708175852056   \n",
       "minimize                                           1.6667928434652193   \n",
       "\n",
       "                                                                                        best_x  \\\n",
       "SteepestDescentAlgorithm + BacktrackingLineSearch         [1e-07, 0.3333333, 2e-07, 1.1666666]   \n",
       "ConjugateGradientAlgorithm                         [0.2352941, 0.254902, 0.4509804, 0.9019608]   \n",
       "QuasiNewtonAlgorithm                               [0.2352941, 0.254902, 0.4509804, 0.9019608]   \n",
       "BasicNewtonAlgorithm + BacktrackingLineSearch             [5e-07, 0.3333332, 4e-07, 1.1666664]   \n",
       "minimize                                            [0.000252, 0.3332493, 7.26e-05, 1.1665884]   \n",
       "\n",
       "                                                  fevals grad_evals nevals  \\\n",
       "SteepestDescentAlgorithm + BacktrackingLineSearch  12511       1372  13883   \n",
       "ConjugateGradientAlgorithm                          4000       4004   8004   \n",
       "QuasiNewtonAlgorithm                                   5         10     15   \n",
       "BasicNewtonAlgorithm + BacktrackingLineSearch       7075       2037   9112   \n",
       "minimize                                             390          0    390   \n",
       "\n",
       "                                                   run_time (s)  \n",
       "SteepestDescentAlgorithm + BacktrackingLineSearch      8.423343  \n",
       "ConjugateGradientAlgorithm                            22.384894  \n",
       "QuasiNewtonAlgorithm                                   0.020881  \n",
       "BasicNewtonAlgorithm + BacktrackingLineSearch         14.320457  \n",
       "minimize                                               0.164817  "
      ]
     },
     "execution_count": 4,
     "metadata": {},
     "output_type": "execute_result"
    }
   ],
   "source": [
    "solution[['best_f', 'best_x', 'fevals', 'grad_evals', 'nevals', 'run_time (s)']]"
   ]
  },
  {
   "cell_type": "markdown",
   "metadata": {},
   "source": [
    "Nessa questão, o algoritmo QuasiNewton não convergiu, assim como o algoritmo Gradiente Conjugado.\n",
    "Na tabela, a linha indicada por \"minimize\" mostra o resultado encontrado pela implementação do scipy do SLQSP. Dentre as implementações feitas para o trabalho, o algoritmo de Newton apresentou os melhores resultados.\n",
    "\n",
    "O código de adição de restrições na função pode ser encontrado no método \"add_constraints\" no arquivo [../../functions/functionObj.py](../../functions/functionObj.py)."
   ]
  },
  {
   "attachments": {
    "image.png": {
     "image/png": "[encoded data removed]"
    }
   },
   "cell_type": "markdown",
   "metadata": {},
   "source": [
    "## Questão 2\n",
    "\n",
    "Find the shortest distance between the two ellipsis.\n",
    "![image.png](attachment:image.png)"
   ]
  },
  {
   "cell_type": "code",
   "execution_count": 5,
   "metadata": {},
   "outputs": [],
   "source": [
    "f_x, ineq = question42()\n",
    "initial_x = np.array([0, 0,2,4], dtype=np.float64)"
   ]
  },
  {
   "cell_type": "markdown",
   "metadata": {},
   "source": [
    "### Implementação SciPy"
   ]
  },
  {
   "cell_type": "code",
   "execution_count": 6,
   "metadata": {},
   "outputs": [
    {
     "name": "stdout",
     "output_type": "stream",
     "text": [
      "fun:  2.916830858245042\n",
      "x:  [2.04479963 0.85266241 2.54497528 2.48565205]\n",
      "nfev:  1239\n"
     ]
    }
   ],
   "source": [
    "from scipy.optimize import minimize\n",
    "f_obj_scipy = functionObj(f_x, iqc=ineq)\n",
    "\n",
    "x0 = initial_x\n",
    "while f_obj_scipy.niq/f_obj_scipy.smooth_log_constant > 1e-6:\n",
    "    res = minimize(fun=f_obj_scipy, x0=x0)\n",
    "    if f_obj_scipy._has_eqc:\n",
    "        x0 = f_obj_scipy.best_z\n",
    "    else:\n",
    "        x0 = f_obj_scipy.best_x\n",
    "    f_obj_scipy.smooth_log_constant *= 20\n",
    "print('fun: ', f_obj_scipy._func_with_no_constraints(np.array(f_obj_scipy.best_x)))\n",
    "print('x: ', f_obj_scipy.best_x)\n",
    "print('nfev: ', f_obj_scipy.nevals)"
   ]
  },
  {
   "cell_type": "markdown",
   "metadata": {},
   "source": [
    "### Implementação para o trabalho"
   ]
  },
  {
   "cell_type": "code",
   "execution_count": 7,
   "metadata": {},
   "outputs": [
    {
     "name": "stdout",
     "output_type": "stream",
     "text": [
      "fun:  2.9165809179855966\n",
      "x:  [2.04474964 0.85271598 2.54491305 2.48563285]\n",
      "nfev:  6745\n"
     ]
    }
   ],
   "source": [
    "f_obj = functionObj(f_x, iqc=ineq)\n",
    "UnconstrainProblem(f_obj, initial_x, BasicNewtonAlgorithm, \n",
    "                   line_search_optimizer=BacktrackingLineSearch).find_min()\n",
    "print('fun: ', f_obj._func_with_no_constraints(np.array(f_obj.best_x)))\n",
    "print('x: ', f_obj.best_x)\n",
    "print('nfev: ', f_obj.nevals)"
   ]
  },
  {
   "cell_type": "markdown",
   "metadata": {},
   "source": [
    "O $\\mathbf{x}=[0,0,2,4]$ foi escolhido por observação do gráfico e confirmação com as restrições de desigualdade.\n",
    "\n",
    "A implementação do SciPy encontrou $\\mathbf{x}^{(1)} =[x_1, x_2]$ e $\\mathbf{x}^{(2)} = [x_3, x_4]$ muito próximos ($d(\\mathbf{x}^{(1)} , \\mathbf{x}^{(2)} = 2.916830$). O $f(x)$ passado para o algoritmo foi o $f(x)$ modificado com as barreiras logarítmicas implementadas na classe functionObj. O resultado encontrado pelo SciPy é muito próximo do mostrado na figura, é possível que a implementação de barreira logarítmica e a modelagem do problema estejam corretas.\n",
    "\n",
    "A implementação feita para a lista 4 encontrou os mesmos valores do algoritmo referência, porém utilizou uma quantidade maior de avaliações. O algoritmo de minimização para funções com restrição de barreira logarítmica pode ser visualizado em [../../models/utils/unconstrain.py](../../models/utils/unconstrain.py). Para agilizar o algoritmo, foi adicionado uma tolerância variável de acordo com o t da barreira logarítmica. Assim quanto mais o $x$ se aproxima do mínimo, maior precisão é necessária."
   ]
  },
  {
   "cell_type": "code",
   "execution_count": 8,
   "metadata": {},
   "outputs": [
    {
     "data": {
      "image/png": "[encoded data removed]",
      "text/plain": [
       "<Figure size 432x288 with 1 Axes>"
      ]
     },
     "metadata": {
      "needs_background": "light"
     },
     "output_type": "display_data"
    }
   ],
   "source": [
    "import matplotlib.pyplot as plt\n",
    "plt.plot(f_obj.all_evals)\n",
    "plt.xlabel('Avaliações')\n",
    "plt.ylabel('$f(x)$')\n",
    "plt.show()"
   ]
  },
  {
   "attachments": {
    "image.png": {
     "image/png": "[encoded data removed]"
    }
   },
   "cell_type": "markdown",
   "metadata": {},
   "source": [
    "## Questão 3\n",
    "![image.png](attachment:image.png)"
   ]
  },
  {
   "cell_type": "code",
   "execution_count": 9,
   "metadata": {},
   "outputs": [],
   "source": [
    "f_x, eqc, iqc = question43()\n",
    "initial_x = np.array([0, 0], dtype=np.float64)"
   ]
  },
  {
   "cell_type": "code",
   "execution_count": 10,
   "metadata": {},
   "outputs": [
    {
     "name": "stdout",
     "output_type": "stream",
     "text": [
      "minimize didn't converge. AttributeError('nhev',)\n"
     ]
    }
   ],
   "source": [
    "solution = run_exercise(f_x, eqc, iqc,\n",
    "             [(SteepestDescentAlgorithm, BacktrackingLineSearch), \n",
    "              ConjugateGradientAlgorithm, \n",
    "              QuasiNewtonAlgorithm, \n",
    "              (BasicNewtonAlgorithm, BacktrackingLineSearch)],\n",
    "                        initial_x,\n",
    "                        maxIter = 500,\n",
    "                       plot_charts=False)"
   ]
  },
  {
   "cell_type": "code",
   "execution_count": 11,
   "metadata": {},
   "outputs": [
    {
     "data": {
      "text/html": [
       "<div>\n",
       "<style scoped>\n",
       "    .dataframe tbody tr th:only-of-type {\n",
       "        vertical-align: middle;\n",
       "    }\n",
       "\n",
       "    .dataframe tbody tr th {\n",
       "        vertical-align: top;\n",
       "    }\n",
       "\n",
       "    .dataframe thead th {\n",
       "        text-align: right;\n",
       "    }\n",
       "</style>\n",
       "<table border=\"1\" class=\"dataframe\">\n",
       "  <thead>\n",
       "    <tr style=\"text-align: right;\">\n",
       "      <th></th>\n",
       "      <th>best_f</th>\n",
       "      <th>best_x</th>\n",
       "      <th>fevals</th>\n",
       "      <th>grad_evals</th>\n",
       "      <th>nevals</th>\n",
       "      <th>run_time (s)</th>\n",
       "    </tr>\n",
       "  </thead>\n",
       "  <tbody>\n",
       "    <tr>\n",
       "      <th>SteepestDescentAlgorithm + BacktrackingLineSearch</th>\n",
       "      <td>-18.498986717575505</td>\n",
       "      <td>[0.5225084, 1.2387458, 1.2387458]</td>\n",
       "      <td>5852</td>\n",
       "      <td>2000</td>\n",
       "      <td>7852</td>\n",
       "      <td>8.352563</td>\n",
       "    </tr>\n",
       "    <tr>\n",
       "      <th>ConjugateGradientAlgorithm</th>\n",
       "      <td>-18.499999969135487</td>\n",
       "      <td>[0.5000019, 1.249999, 1.249999]</td>\n",
       "      <td>9</td>\n",
       "      <td>9</td>\n",
       "      <td>18</td>\n",
       "      <td>0.096442</td>\n",
       "    </tr>\n",
       "    <tr>\n",
       "      <th>QuasiNewtonAlgorithm</th>\n",
       "      <td>-18.499999969142497</td>\n",
       "      <td>[0.5, 1.25, 1.25]</td>\n",
       "      <td>12</td>\n",
       "      <td>4009</td>\n",
       "      <td>4021</td>\n",
       "      <td>11.486594</td>\n",
       "    </tr>\n",
       "    <tr>\n",
       "      <th>BasicNewtonAlgorithm + BacktrackingLineSearch</th>\n",
       "      <td>-18.499999969142497</td>\n",
       "      <td>[0.5, 1.25, 1.25]</td>\n",
       "      <td>411</td>\n",
       "      <td>40</td>\n",
       "      <td>451</td>\n",
       "      <td>0.593153</td>\n",
       "    </tr>\n",
       "    <tr>\n",
       "      <th>minimize</th>\n",
       "      <td>-18.499998457131547</td>\n",
       "      <td>[0.5000019, 1.249999, 1.2499991]</td>\n",
       "      <td>76</td>\n",
       "      <td>0</td>\n",
       "      <td>76</td>\n",
       "      <td>0.029257</td>\n",
       "    </tr>\n",
       "  </tbody>\n",
       "</table>\n",
       "</div>"
      ],
      "text/plain": [
       "                                                                best_f  \\\n",
       "SteepestDescentAlgorithm + BacktrackingLineSearch  -18.498986717575505   \n",
       "ConjugateGradientAlgorithm                         -18.499999969135487   \n",
       "QuasiNewtonAlgorithm                               -18.499999969142497   \n",
       "BasicNewtonAlgorithm + BacktrackingLineSearch      -18.499999969142497   \n",
       "minimize                                           -18.499998457131547   \n",
       "\n",
       "                                                                              best_x  \\\n",
       "SteepestDescentAlgorithm + BacktrackingLineSearch  [0.5225084, 1.2387458, 1.2387458]   \n",
       "ConjugateGradientAlgorithm                           [0.5000019, 1.249999, 1.249999]   \n",
       "QuasiNewtonAlgorithm                                               [0.5, 1.25, 1.25]   \n",
       "BasicNewtonAlgorithm + BacktrackingLineSearch                      [0.5, 1.25, 1.25]   \n",
       "minimize                                            [0.5000019, 1.249999, 1.2499991]   \n",
       "\n",
       "                                                  fevals grad_evals nevals  \\\n",
       "SteepestDescentAlgorithm + BacktrackingLineSearch   5852       2000   7852   \n",
       "ConjugateGradientAlgorithm                             9          9     18   \n",
       "QuasiNewtonAlgorithm                                  12       4009   4021   \n",
       "BasicNewtonAlgorithm + BacktrackingLineSearch        411         40    451   \n",
       "minimize                                              76          0     76   \n",
       "\n",
       "                                                   run_time (s)  \n",
       "SteepestDescentAlgorithm + BacktrackingLineSearch      8.352563  \n",
       "ConjugateGradientAlgorithm                             0.096442  \n",
       "QuasiNewtonAlgorithm                                  11.486594  \n",
       "BasicNewtonAlgorithm + BacktrackingLineSearch          0.593153  \n",
       "minimize                                               0.029257  "
      ]
     },
     "execution_count": 11,
     "metadata": {},
     "output_type": "execute_result"
    }
   ],
   "source": [
    "solution[['best_f', 'best_x', 'fevals', 'grad_evals', 'nevals', 'run_time (s)']]"
   ]
  },
  {
   "cell_type": "markdown",
   "metadata": {},
   "source": [
    "Essa foi a única questão em que todos os algoritmos encontraram valores de $f(x)$ muito próximos, com um erro máximo de $\\epsilon=1e-3$ para o SteepestDescentAlgorithm com BacktrackingLineSearch."
   ]
  },
  {
   "attachments": {
    "image.png": {
     "image/png": "[encoded data removed]"
    }
   },
   "cell_type": "markdown",
   "metadata": {},
   "source": [
    "## Questão 4\n",
    "![image.png](attachment:image.png)"
   ]
  },
  {
   "cell_type": "code",
   "execution_count": 12,
   "metadata": {},
   "outputs": [
    {
     "name": "stdout",
     "output_type": "stream",
     "text": [
      "[-1. -0. -2.  1.] inf\n"
     ]
    }
   ],
   "source": [
    "from scipy.optimize import minimize\n",
    "\n",
    "f_x, iqc = question44()\n",
    "find_feasible_f = functionObj(lambda x: 1, iqc=iqc)\n",
    "x0 = -np.array([1, 0, 2, -1], dtype=np.float64)\n",
    "initial_x = UnconstrainProblem(find_feasible_f, x0, SteepestDescentAlgorithm, \n",
    "                   line_search_optimizer=BacktrackingLineSearch).find_min()\n",
    "print(initial_x, find_feasible_f.func(initial_x))"
   ]
  },
  {
   "cell_type": "markdown",
   "metadata": {},
   "source": [
    "Não foi encontrado um x inicial viável. É capaz que o modelo do problema da questão 4 tenha sido implementado errado. A implementação desse problema pode ser encontrada em [../../functions/functions.py](../../functions/functions.py)."
   ]
  },
  {
   "cell_type": "code",
   "execution_count": 13,
   "metadata": {},
   "outputs": [
    {
     "name": "stdout",
     "output_type": "stream",
     "text": [
      "QuasiNewtonAlgorithm didn't converge. AssertionError('X out of domain',)\n",
      "minimize didn't converge. AttributeError('nhev',)\n"
     ]
    }
   ],
   "source": [
    "solution = run_exercise(f_x, None, iqc,\n",
    "             [(SteepestDescentAlgorithm, BacktrackingLineSearch), \n",
    "              ConjugateGradientAlgorithm, \n",
    "              QuasiNewtonAlgorithm, \n",
    "              (BasicNewtonAlgorithm, BacktrackingLineSearch)],\n",
    "                        np.array(initial_x, dtype=np.float64),\n",
    "                        maxIter = 500,\n",
    "                       plot_charts=False)"
   ]
  },
  {
   "cell_type": "code",
   "execution_count": 14,
   "metadata": {
    "scrolled": true
   },
   "outputs": [
    {
     "data": {
      "text/html": [
       "<div>\n",
       "<style scoped>\n",
       "    .dataframe tbody tr th:only-of-type {\n",
       "        vertical-align: middle;\n",
       "    }\n",
       "\n",
       "    .dataframe tbody tr th {\n",
       "        vertical-align: top;\n",
       "    }\n",
       "\n",
       "    .dataframe thead th {\n",
       "        text-align: right;\n",
       "    }\n",
       "</style>\n",
       "<table border=\"1\" class=\"dataframe\">\n",
       "  <thead>\n",
       "    <tr style=\"text-align: right;\">\n",
       "      <th></th>\n",
       "      <th>best_f</th>\n",
       "      <th>best_x</th>\n",
       "      <th>fevals</th>\n",
       "      <th>grad_evals</th>\n",
       "      <th>nevals</th>\n",
       "      <th>run_time (s)</th>\n",
       "    </tr>\n",
       "  </thead>\n",
       "  <tbody>\n",
       "    <tr>\n",
       "      <th>SteepestDescentAlgorithm + BacktrackingLineSearch</th>\n",
       "      <td>inf</td>\n",
       "      <td>[-2001.0, -0.0, -4002.0, 2001.0]</td>\n",
       "      <td>4000</td>\n",
       "      <td>2000</td>\n",
       "      <td>6000</td>\n",
       "      <td>109.867629</td>\n",
       "    </tr>\n",
       "    <tr>\n",
       "      <th>ConjugateGradientAlgorithm</th>\n",
       "      <td>inf</td>\n",
       "      <td>[-2994000000000001.0, -0.0, -5988000000000002....</td>\n",
       "      <td>2000</td>\n",
       "      <td>2004</td>\n",
       "      <td>4004</td>\n",
       "      <td>296.750024</td>\n",
       "    </tr>\n",
       "    <tr>\n",
       "      <th>QuasiNewtonAlgorithm</th>\n",
       "      <td>inf</td>\n",
       "      <td>[-2.0, -0.0, -4.0, 2.0]</td>\n",
       "      <td>3</td>\n",
       "      <td>5</td>\n",
       "      <td>8</td>\n",
       "      <td>0.255454</td>\n",
       "    </tr>\n",
       "    <tr>\n",
       "      <th>BasicNewtonAlgorithm + BacktrackingLineSearch</th>\n",
       "      <td>inf</td>\n",
       "      <td>[-2001.02, 0.0, -4002.04, 2001.02]</td>\n",
       "      <td>6000</td>\n",
       "      <td>2000</td>\n",
       "      <td>8000</td>\n",
       "      <td>301.727248</td>\n",
       "    </tr>\n",
       "    <tr>\n",
       "      <th>minimize</th>\n",
       "      <td>inf</td>\n",
       "      <td>[-1.0, -0.0, -2.0, 1.0]</td>\n",
       "      <td>36</td>\n",
       "      <td>0</td>\n",
       "      <td>36</td>\n",
       "      <td>0.023886</td>\n",
       "    </tr>\n",
       "  </tbody>\n",
       "</table>\n",
       "</div>"
      ],
      "text/plain": [
       "                                                  best_f  \\\n",
       "SteepestDescentAlgorithm + BacktrackingLineSearch    inf   \n",
       "ConjugateGradientAlgorithm                           inf   \n",
       "QuasiNewtonAlgorithm                                 inf   \n",
       "BasicNewtonAlgorithm + BacktrackingLineSearch        inf   \n",
       "minimize                                             inf   \n",
       "\n",
       "                                                                                              best_x  \\\n",
       "SteepestDescentAlgorithm + BacktrackingLineSearch                   [-2001.0, -0.0, -4002.0, 2001.0]   \n",
       "ConjugateGradientAlgorithm                         [-2994000000000001.0, -0.0, -5988000000000002....   \n",
       "QuasiNewtonAlgorithm                                                         [-2.0, -0.0, -4.0, 2.0]   \n",
       "BasicNewtonAlgorithm + BacktrackingLineSearch                     [-2001.02, 0.0, -4002.04, 2001.02]   \n",
       "minimize                                                                     [-1.0, -0.0, -2.0, 1.0]   \n",
       "\n",
       "                                                  fevals grad_evals nevals  \\\n",
       "SteepestDescentAlgorithm + BacktrackingLineSearch   4000       2000   6000   \n",
       "ConjugateGradientAlgorithm                          2000       2004   4004   \n",
       "QuasiNewtonAlgorithm                                   3          5      8   \n",
       "BasicNewtonAlgorithm + BacktrackingLineSearch       6000       2000   8000   \n",
       "minimize                                              36          0     36   \n",
       "\n",
       "                                                   run_time (s)  \n",
       "SteepestDescentAlgorithm + BacktrackingLineSearch    109.867629  \n",
       "ConjugateGradientAlgorithm                           296.750024  \n",
       "QuasiNewtonAlgorithm                                   0.255454  \n",
       "BasicNewtonAlgorithm + BacktrackingLineSearch        301.727248  \n",
       "minimize                                               0.023886  "
      ]
     },
     "execution_count": 14,
     "metadata": {},
     "output_type": "execute_result"
    }
   ],
   "source": [
    "solution[['best_f', 'best_x', 'fevals', 'grad_evals', 'nevals', 'run_time (s)']]"
   ]
  },
  {
   "cell_type": "markdown",
   "metadata": {},
   "source": [
    "Nenhum algoritmo convergiu, nem o algoritmo-referência do SciPy. É capaz que o problema tenha sido erroneamente implementado."
   ]
  },
  {
   "attachments": {
    "image.png": {
     "image/png": "[encoded data removed]"
    }
   },
   "cell_type": "markdown",
   "metadata": {},
   "source": [
    "## Questão 5\n",
    "![image.png](attachment:image.png)"
   ]
  },
  {
   "cell_type": "code",
   "execution_count": 15,
   "metadata": {},
   "outputs": [],
   "source": [
    "f_x, iqc = question45()\n",
    "initial_x = np.array([-2,2, -2,2], dtype=np.float64)"
   ]
  },
  {
   "cell_type": "code",
   "execution_count": 16,
   "metadata": {},
   "outputs": [
    {
     "name": "stdout",
     "output_type": "stream",
     "text": [
      "SteepestDescentAlgorithm didn't converge. AssertionError('X out of domain',)\n",
      "minimize didn't converge. AttributeError('nhev',)\n"
     ]
    }
   ],
   "source": [
    "solution = run_exercise(f_x, None, iqc,\n",
    "             [(SteepestDescentAlgorithm, BacktrackingLineSearch), \n",
    "              ConjugateGradientAlgorithm, \n",
    "              QuasiNewtonAlgorithm, \n",
    "              (BasicNewtonAlgorithm, BacktrackingLineSearch)],\n",
    "                        initial_x,\n",
    "                        maxIter = 500,\n",
    "                       plot_charts=False)"
   ]
  },
  {
   "cell_type": "code",
   "execution_count": 17,
   "metadata": {},
   "outputs": [
    {
     "data": {
      "text/html": [
       "<div>\n",
       "<style scoped>\n",
       "    .dataframe tbody tr th:only-of-type {\n",
       "        vertical-align: middle;\n",
       "    }\n",
       "\n",
       "    .dataframe tbody tr th {\n",
       "        vertical-align: top;\n",
       "    }\n",
       "\n",
       "    .dataframe thead th {\n",
       "        text-align: right;\n",
       "    }\n",
       "</style>\n",
       "<table border=\"1\" class=\"dataframe\">\n",
       "  <thead>\n",
       "    <tr style=\"text-align: right;\">\n",
       "      <th></th>\n",
       "      <th>best_f</th>\n",
       "      <th>best_x</th>\n",
       "      <th>fevals</th>\n",
       "      <th>grad_evals</th>\n",
       "      <th>nevals</th>\n",
       "      <th>run_time (s)</th>\n",
       "    </tr>\n",
       "  </thead>\n",
       "  <tbody>\n",
       "    <tr>\n",
       "      <th>SteepestDescentAlgorithm + BacktrackingLineSearch</th>\n",
       "      <td>817.992</td>\n",
       "      <td>[-2.0, 2.0, -2.0, 2.0]</td>\n",
       "      <td>56</td>\n",
       "      <td>7</td>\n",
       "      <td>63</td>\n",
       "      <td>0.054240</td>\n",
       "    </tr>\n",
       "    <tr>\n",
       "      <th>ConjugateGradientAlgorithm</th>\n",
       "      <td>-2.17159e-05</td>\n",
       "      <td>[1.0001643, 1.0003325, -0.99981, 0.9996141]</td>\n",
       "      <td>734</td>\n",
       "      <td>735</td>\n",
       "      <td>1469</td>\n",
       "      <td>17.154440</td>\n",
       "    </tr>\n",
       "    <tr>\n",
       "      <th>QuasiNewtonAlgorithm</th>\n",
       "      <td>-0.000264794</td>\n",
       "      <td>[0.9975864, 0.9948901, -1.003793, 1.0067789]</td>\n",
       "      <td>77</td>\n",
       "      <td>4056</td>\n",
       "      <td>4133</td>\n",
       "      <td>15.782485</td>\n",
       "    </tr>\n",
       "    <tr>\n",
       "      <th>BasicNewtonAlgorithm + BacktrackingLineSearch</th>\n",
       "      <td>2.17192</td>\n",
       "      <td>[0.0385403, 0.0066226, -1.3702917, 1.8871134]</td>\n",
       "      <td>32620</td>\n",
       "      <td>1523</td>\n",
       "      <td>34143</td>\n",
       "      <td>49.412701</td>\n",
       "    </tr>\n",
       "    <tr>\n",
       "      <th>minimize</th>\n",
       "      <td>-8.78959</td>\n",
       "      <td>[0.9968323, 0.9939374, -0.9988199, 0.9979239]</td>\n",
       "      <td>984</td>\n",
       "      <td>0</td>\n",
       "      <td>984</td>\n",
       "      <td>0.332656</td>\n",
       "    </tr>\n",
       "  </tbody>\n",
       "</table>\n",
       "</div>"
      ],
      "text/plain": [
       "                                                        best_f  \\\n",
       "SteepestDescentAlgorithm + BacktrackingLineSearch      817.992   \n",
       "ConjugateGradientAlgorithm                        -2.17159e-05   \n",
       "QuasiNewtonAlgorithm                              -0.000264794   \n",
       "BasicNewtonAlgorithm + BacktrackingLineSearch          2.17192   \n",
       "minimize                                              -8.78959   \n",
       "\n",
       "                                                                                          best_x  \\\n",
       "SteepestDescentAlgorithm + BacktrackingLineSearch                         [-2.0, 2.0, -2.0, 2.0]   \n",
       "ConjugateGradientAlgorithm                           [1.0001643, 1.0003325, -0.99981, 0.9996141]   \n",
       "QuasiNewtonAlgorithm                                [0.9975864, 0.9948901, -1.003793, 1.0067789]   \n",
       "BasicNewtonAlgorithm + BacktrackingLineSearch      [0.0385403, 0.0066226, -1.3702917, 1.8871134]   \n",
       "minimize                                           [0.9968323, 0.9939374, -0.9988199, 0.9979239]   \n",
       "\n",
       "                                                  fevals grad_evals nevals  \\\n",
       "SteepestDescentAlgorithm + BacktrackingLineSearch     56          7     63   \n",
       "ConjugateGradientAlgorithm                           734        735   1469   \n",
       "QuasiNewtonAlgorithm                                  77       4056   4133   \n",
       "BasicNewtonAlgorithm + BacktrackingLineSearch      32620       1523  34143   \n",
       "minimize                                             984          0    984   \n",
       "\n",
       "                                                   run_time (s)  \n",
       "SteepestDescentAlgorithm + BacktrackingLineSearch      0.054240  \n",
       "ConjugateGradientAlgorithm                            17.154440  \n",
       "QuasiNewtonAlgorithm                                  15.782485  \n",
       "BasicNewtonAlgorithm + BacktrackingLineSearch         49.412701  \n",
       "minimize                                               0.332656  "
      ]
     },
     "execution_count": 17,
     "metadata": {},
     "output_type": "execute_result"
    }
   ],
   "source": [
    "solution[['best_f', 'best_x', 'fevals', 'grad_evals', 'nevals', 'run_time (s)']]"
   ]
  },
  {
   "cell_type": "markdown",
   "metadata": {},
   "source": [
    "Na questão 5, nenhum algoritmo aproximou-se do resultado encontrado pelo minimize do SciPy. Porém se prestarmos a atenção na coluna best_x, os algoritmos ConjugateGradientAlgorithm, QuasiNewton e minimize do Scipy se aproximam do vetor $\\mathbf{x} = [1,1,-1,1]$. O SteepestDescentAlgorithm com BLS não convergiu."
   ]
  },
  {
   "cell_type": "markdown",
   "metadata": {},
   "source": [
    "## Questão 6\n",
    "\n",
    "Refaça os exemplos 16.1 e 16.2 do livro do Antoniou.\n",
    "\n",
    "### Example 16.1\n",
    "Applying the above method, design a linear-phase lowpass FIR digital filter that would satisfy the following specifications:  \n",
    "\n",
    "- passband edge $=0.45\\pi$,\n",
    "- stopband edge $=0.5\\pi$, \n",
    "- maximum passband error $\\delta_p = 0.025$,\n",
    "- minimum stopband attenuation $=40$ dB. \n",
    "\n",
    "Assume idealized passband and stopband gains of 1 and 0, respectively, and a normalized sampling frequency of $2\\pi$."
   ]
  },
  {
   "cell_type": "code",
   "execution_count": 18,
   "metadata": {},
   "outputs": [],
   "source": [
    "from functions.design_filter import FilterDesign\n",
    "order_length=200\n",
    "filter1 = FilterDesign(gamma=3e3, \n",
    "                         nb_sampled_frequencies_pass=300, \n",
    "                         nb_sampled_frequencies_stop=300, \n",
    "                         order_length=order_length, \n",
    "                         passband_edge=0.45*np.pi,\n",
    "                         stopband_edge=0.5*np.pi,\n",
    "                         passband_error=0.025,\n",
    "                         stopband_attenuation=40,\n",
    "                         passband_gain=1)"
   ]
  },
  {
   "cell_type": "markdown",
   "metadata": {},
   "source": [
    "No arquivo [../../functions/design_filter.py](../../functions/design_filter.py) foi implementado o projeto de filtro digital proposto por Antoniou nos capítulos 9 e 16."
   ]
  },
  {
   "cell_type": "code",
   "execution_count": 19,
   "metadata": {},
   "outputs": [],
   "source": [
    "fx, iqc = filter1.f_x, filter1.iqc"
   ]
  },
  {
   "cell_type": "code",
   "execution_count": 20,
   "metadata": {},
   "outputs": [
    {
     "name": "stdout",
     "output_type": "stream",
     "text": [
      "[0. 0. 0. 0. 0. 0. 0. 0. 0. 0. 0. 0. 0. 0. 0. 0. 0. 0. 0. 0. 0. 0. 0. 0.\n",
      " 0. 0. 0. 0. 0. 0. 0. 0. 0. 0. 0. 0. 0. 0. 0. 0. 0. 0. 0. 0. 0. 0. 0. 0.\n",
      " 0. 0. 0. 0. 0. 0. 0. 0. 0. 0. 0. 0. 0. 0. 0. 0. 0. 0. 0. 0. 0. 0. 0. 0.\n",
      " 0. 0. 0. 0. 0. 0. 0. 0. 0. 0. 0. 0. 0. 0. 0. 0. 0. 0. 0. 0. 0. 0. 0. 0.\n",
      " 0. 0. 0. 0. 0.] inf\n"
     ]
    }
   ],
   "source": [
    "find_feasible_f = functionObj(lambda x: 1, iqc=[iqc])\n",
    "x0 = np.zeros(filter1.Q.shape[0])\n",
    "initial_x = UnconstrainProblem(find_feasible_f, x0, BasicNewtonAlgorithm, \n",
    "                   line_search_optimizer=BacktrackingLineSearch).find_min()\n",
    "print(initial_x, find_feasible_f.func(initial_x))"
   ]
  },
  {
   "cell_type": "markdown",
   "metadata": {},
   "source": [
    "O algoritmo de encontrar um ponto inicial viável não funcionou."
   ]
  },
  {
   "cell_type": "code",
   "execution_count": 21,
   "metadata": {},
   "outputs": [
    {
     "name": "stdout",
     "output_type": "stream",
     "text": [
      "SteepestDescentAlgorithm didn't converge. AssertionError('X out of domain',)\n",
      "QuasiNewtonAlgorithm didn't converge. AssertionError('X out of domain',)\n",
      "minimize didn't converge. AttributeError('nhev',)\n"
     ]
    }
   ],
   "source": [
    "solution = run_exercise(filter1.f_x, None, [iqc],\n",
    "             [(SteepestDescentAlgorithm, BacktrackingLineSearch), \n",
    "              ConjugateGradientAlgorithm, \n",
    "              QuasiNewtonAlgorithm, \n",
    "              (BasicNewtonAlgorithm, BacktrackingLineSearch)],\n",
    "                        initial_x,\n",
    "                       plot_charts=False)"
   ]
  },
  {
   "cell_type": "markdown",
   "metadata": {},
   "source": [
    "O SteepestDescentAlgorithm com BLS não convergiu, provavelmente devido ao $x_0$ inviável.\n",
    "O QuasiNewtonAlgorithm também não convergiu, capaz que também por causa do $x_0$ inviável."
   ]
  },
  {
   "cell_type": "code",
   "execution_count": 22,
   "metadata": {},
   "outputs": [
    {
     "data": {
      "text/html": [
       "<div>\n",
       "<style scoped>\n",
       "    .dataframe tbody tr th:only-of-type {\n",
       "        vertical-align: middle;\n",
       "    }\n",
       "\n",
       "    .dataframe tbody tr th {\n",
       "        vertical-align: top;\n",
       "    }\n",
       "\n",
       "    .dataframe thead th {\n",
       "        text-align: right;\n",
       "    }\n",
       "</style>\n",
       "<table border=\"1\" class=\"dataframe\">\n",
       "  <thead>\n",
       "    <tr style=\"text-align: right;\">\n",
       "      <th></th>\n",
       "      <th>best_f</th>\n",
       "      <th>best_x</th>\n",
       "      <th>fevals</th>\n",
       "      <th>grad_evals</th>\n",
       "      <th>nevals</th>\n",
       "      <th>run_time (s)</th>\n",
       "    </tr>\n",
       "  </thead>\n",
       "  <tbody>\n",
       "    <tr>\n",
       "      <th>SteepestDescentAlgorithm + BacktrackingLineSearch</th>\n",
       "      <td>inf</td>\n",
       "      <td>[inf, -inf, 7.81190315455657e+299, inf, -7.812...</td>\n",
       "      <td>2298</td>\n",
       "      <td>150</td>\n",
       "      <td>2448</td>\n",
       "      <td>5.919595</td>\n",
       "    </tr>\n",
       "    <tr>\n",
       "      <th>ConjugateGradientAlgorithm</th>\n",
       "      <td>-1.41309</td>\n",
       "      <td>[0.4630836, 0.6323091, 0.0731498, -0.199393, -...</td>\n",
       "      <td>59</td>\n",
       "      <td>59</td>\n",
       "      <td>118</td>\n",
       "      <td>2.934504</td>\n",
       "    </tr>\n",
       "    <tr>\n",
       "      <th>QuasiNewtonAlgorithm</th>\n",
       "      <td>inf</td>\n",
       "      <td>[2.8274334, 1.9753767, 0.309017, -0.5940043, -...</td>\n",
       "      <td>3</td>\n",
       "      <td>5</td>\n",
       "      <td>8</td>\n",
       "      <td>0.022805</td>\n",
       "    </tr>\n",
       "    <tr>\n",
       "      <th>BasicNewtonAlgorithm + BacktrackingLineSearch</th>\n",
       "      <td>-1.41309</td>\n",
       "      <td>[0.4709347, 0.6337313, 0.057723, -0.2036092, -...</td>\n",
       "      <td>68</td>\n",
       "      <td>16</td>\n",
       "      <td>84</td>\n",
       "      <td>7.219854</td>\n",
       "    </tr>\n",
       "    <tr>\n",
       "      <th>minimize</th>\n",
       "      <td>inf</td>\n",
       "      <td>[0.0, 0.0, 0.0, 0.0, 0.0, 0.0, 0.0, 0.0, 0.0, ...</td>\n",
       "      <td>515</td>\n",
       "      <td>0</td>\n",
       "      <td>515</td>\n",
       "      <td>1.578458</td>\n",
       "    </tr>\n",
       "  </tbody>\n",
       "</table>\n",
       "</div>"
      ],
      "text/plain": [
       "                                                    best_f  \\\n",
       "SteepestDescentAlgorithm + BacktrackingLineSearch      inf   \n",
       "ConjugateGradientAlgorithm                        -1.41309   \n",
       "QuasiNewtonAlgorithm                                   inf   \n",
       "BasicNewtonAlgorithm + BacktrackingLineSearch     -1.41309   \n",
       "minimize                                               inf   \n",
       "\n",
       "                                                                                              best_x  \\\n",
       "SteepestDescentAlgorithm + BacktrackingLineSearch  [inf, -inf, 7.81190315455657e+299, inf, -7.812...   \n",
       "ConjugateGradientAlgorithm                         [0.4630836, 0.6323091, 0.0731498, -0.199393, -...   \n",
       "QuasiNewtonAlgorithm                               [2.8274334, 1.9753767, 0.309017, -0.5940043, -...   \n",
       "BasicNewtonAlgorithm + BacktrackingLineSearch      [0.4709347, 0.6337313, 0.057723, -0.2036092, -...   \n",
       "minimize                                           [0.0, 0.0, 0.0, 0.0, 0.0, 0.0, 0.0, 0.0, 0.0, ...   \n",
       "\n",
       "                                                  fevals grad_evals nevals  \\\n",
       "SteepestDescentAlgorithm + BacktrackingLineSearch   2298        150   2448   \n",
       "ConjugateGradientAlgorithm                            59         59    118   \n",
       "QuasiNewtonAlgorithm                                   3          5      8   \n",
       "BasicNewtonAlgorithm + BacktrackingLineSearch         68         16     84   \n",
       "minimize                                             515          0    515   \n",
       "\n",
       "                                                   run_time (s)  \n",
       "SteepestDescentAlgorithm + BacktrackingLineSearch      5.919595  \n",
       "ConjugateGradientAlgorithm                             2.934504  \n",
       "QuasiNewtonAlgorithm                                   0.022805  \n",
       "BasicNewtonAlgorithm + BacktrackingLineSearch          7.219854  \n",
       "minimize                                               1.578458  "
      ]
     },
     "execution_count": 22,
     "metadata": {},
     "output_type": "execute_result"
    }
   ],
   "source": [
    "solution[['best_f', 'best_x', 'fevals', 'grad_evals', 'nevals', 'run_time (s)']]"
   ]
  },
  {
   "cell_type": "markdown",
   "metadata": {},
   "source": [
    "Apenas os algoritmos ConjugateGradientAlgorithm e BasicNewtonAlgorithm com BLS convergiram para um $x$ final.\n",
    "É interessante notar que nem o minimize do SciPy conseguiu atingir uma convergência."
   ]
  },
  {
   "cell_type": "code",
   "execution_count": 23,
   "metadata": {},
   "outputs": [
    {
     "data": {
      "image/png": "[encoded data removed]",
      "text/plain": [
       "<Figure size 432x288 with 1 Axes>"
      ]
     },
     "metadata": {
      "needs_background": "light"
     },
     "output_type": "display_data"
    },
    {
     "data": {
      "image/png": "[encoded data removed]",
      "text/plain": [
       "<Figure size 432x288 with 1 Axes>"
      ]
     },
     "metadata": {
      "needs_background": "light"
     },
     "output_type": "display_data"
    }
   ],
   "source": [
    "result = solution.loc['ConjugateGradientAlgorithm', 'best_x']\n",
    "freq_response = lambda w: filter1.freq_response(w, result)\n",
    "w = np.linspace(0, np.pi, 1000)\n",
    "mod = [freq_response(w0) for w0 in w]\n",
    "plt.plot(w, 20*np.log10(np.absolute(mod)), label='$|H(\\omega)|$')\n",
    "plt.plot([0.45*np.pi, 0.45*np.pi], [10, -80], color='orange', linestyle='--', label='Passband edge')\n",
    "plt.plot([0.5*np.pi, 0.5*np.pi], [10, -80], color='red', linestyle='--', label='Stopband edge')\n",
    "plt.ylabel('Gain, db')\n",
    "plt.xlabel('$\\omega$ [rad/s]')\n",
    "plt.title('$|H(\\omega)|$ entre 0 a $\\pi$')\n",
    "plt.legend()\n",
    "plt.show()\n",
    "w = np.linspace(0, 0.45*np.pi, 1000)\n",
    "mod = [freq_response(w0) for w0 in w]\n",
    "plt.plot(w, 20*np.log10(np.absolute(mod)), label='$|H(\\omega)|$')\n",
    "plt.ylabel('Gain, db')\n",
    "plt.xlabel('$\\omega$ [rad/s]')\n",
    "plt.title('$|H(\\omega)|$ entre 0 a $w_p$')\n",
    "plt.legend()\n",
    "plt.show()"
   ]
  },
  {
   "cell_type": "markdown",
   "metadata": {},
   "source": [
    "Nos gráficos acima, utilizou-se o x encontrado pelo ConjugateGradientAlgorithm. É visível que o filtro entregue não atinge a atenuação de 40dB no stopband."
   ]
  },
  {
   "cell_type": "markdown",
   "metadata": {},
   "source": [
    "### Example 16.2\n",
    "Assuming idealized passband and stopband gains of 1 and 0, respectively, and a normalized sampling frequency of $2\\pi$, apply the SDP-based minimax approach described in Sec. 16.2.2 to design a lowpass FIR filter of order 84 with a passband edge $\\omega_p = 0.45\\pi$ and a stopband edge $\\omega_a=0.5\\pi$."
   ]
  },
  {
   "cell_type": "code",
   "execution_count": null,
   "metadata": {},
   "outputs": [],
   "source": []
  }
 ],
 "metadata": {
  "kernelspec": {
   "display_name": "Python 3",
   "language": "python",
   "name": "python3"
  },
  "language_info": {
   "codemirror_mode": {
    "name": "ipython",
    "version": 3
   },
   "file_extension": ".py",
   "mimetype": "text/x-python",
   "name": "python",
   "nbconvert_exporter": "python",
   "pygments_lexer": "ipython3",
   "version": "3.6.6"
  }
 },
 "nbformat": 4,
 "nbformat_minor": 2
}
