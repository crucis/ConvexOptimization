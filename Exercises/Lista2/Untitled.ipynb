{
 "cells": [
  {
   "cell_type": "markdown",
   "metadata": {},
   "source": [
    "# Exercícios 9.4 do Boyd e 5.7, 5.8, 5.17 e 5.20 do Antoniou"
   ]
  },
  {
   "cell_type": "markdown",
   "metadata": {},
   "source": [
    "<div style=\"text-align: right\"> \n",
    "2018/3  <br/>\n",
    "Aluno: Pedro Bandeira de Mello Martins  <br/>\n",
    "Disciplina: CPE773 - Otimização Convexa  <br/>\n",
    "Professor: Wallace A. Martins  <br/>\n",
    "PEE/COPPE - UFRJ  </div>"
   ]
  },
  {
   "cell_type": "code",
   "execution_count": 1,
   "metadata": {},
   "outputs": [],
   "source": [
    "import sys\n",
    "if '../..' not in sys.path:\n",
    "    sys.path.append('../..')\n",
    "    \n",
    "import time\n",
    "\n",
    "from functions import functionObj\n",
    "from functions import exercise57\n",
    "from models.optimizers import InexactLineSearch,\\\n",
    "                              BacktrackingLineSearch,\\\n",
    "                              SteepestDescentAlgorithm\n",
    "from run_exercises import run_exercise"
   ]
  },
  {
   "cell_type": "markdown",
   "metadata": {},
   "source": [
    "## Exercício 9.4 do Boyd"
   ]
  },
  {
   "cell_type": "markdown",
   "metadata": {},
   "source": [
    "## Exercício 5.7 do Antoniou\n",
    "\n",
    "minimize $f(x) = (x_1^2+x_2^2-1)^2 + (x_1+x_2-1)^2$\n",
    "\n",
    "by applying Algorithm 5.1. Use $\\epsilon=10^{-6}$ and try the following initial points:\n",
    "1. $[4~4]^T$\n",
    "2. $[4~-4]^T$\n",
    "3. $[-4~4]^T$\n",
    "4. $[-4~-4]^T$"
   ]
  },
  {
   "cell_type": "code",
   "execution_count": 2,
   "metadata": {},
   "outputs": [],
   "source": [
    "results_57_ILS = run_exercise(func=exercise57, opt=SteepestDescentAlgorithm, line_search=InexactLineSearch)"
   ]
  },
  {
   "cell_type": "code",
   "execution_count": 3,
   "metadata": {},
   "outputs": [
    {
     "data": {
      "text/html": [
       "<div>\n",
       "<style>\n",
       "    .dataframe thead tr:only-child th {\n",
       "        text-align: right;\n",
       "    }\n",
       "\n",
       "    .dataframe thead th {\n",
       "        text-align: left;\n",
       "    }\n",
       "\n",
       "    .dataframe tbody tr th {\n",
       "        vertical-align: top;\n",
       "    }\n",
       "</style>\n",
       "<table border=\"1\" class=\"dataframe\">\n",
       "  <thead>\n",
       "    <tr style=\"text-align: right;\">\n",
       "      <th></th>\n",
       "      <th>best_f</th>\n",
       "      <th>best_x0</th>\n",
       "      <th>best_x1</th>\n",
       "      <th>fevals</th>\n",
       "      <th>run_time (s)</th>\n",
       "    </tr>\n",
       "  </thead>\n",
       "  <tbody>\n",
       "    <tr>\n",
       "      <th>[-4 -4]T</th>\n",
       "      <td>0.951696</td>\n",
       "      <td>-0.669519</td>\n",
       "      <td>0.696270</td>\n",
       "      <td>9456</td>\n",
       "      <td>0.989797</td>\n",
       "    </tr>\n",
       "    <tr>\n",
       "      <th>[-4 4]T</th>\n",
       "      <td>0.951696</td>\n",
       "      <td>-0.669519</td>\n",
       "      <td>0.696270</td>\n",
       "      <td>9456</td>\n",
       "      <td>6.962300</td>\n",
       "    </tr>\n",
       "    <tr>\n",
       "      <th>[4 -4]T</th>\n",
       "      <td>0.951696</td>\n",
       "      <td>0.696270</td>\n",
       "      <td>-0.669519</td>\n",
       "      <td>9456</td>\n",
       "      <td>6.973812</td>\n",
       "    </tr>\n",
       "    <tr>\n",
       "      <th>[4 4]T</th>\n",
       "      <td>0.112301</td>\n",
       "      <td>0.614701</td>\n",
       "      <td>0.614701</td>\n",
       "      <td>1356</td>\n",
       "      <td>7.030983</td>\n",
       "    </tr>\n",
       "  </tbody>\n",
       "</table>\n",
       "</div>"
      ],
      "text/plain": [
       "            best_f   best_x0   best_x1 fevals  run_time (s)\n",
       "[-4 -4]T  0.951696 -0.669519  0.696270   9456      0.989797\n",
       "[-4 4]T   0.951696 -0.669519  0.696270   9456      6.962300\n",
       "[4 -4]T   0.951696  0.696270 -0.669519   9456      6.973812\n",
       "[4 4]T    0.112301  0.614701  0.614701   1356      7.030983"
      ]
     },
     "execution_count": 3,
     "metadata": {},
     "output_type": "execute_result"
    }
   ],
   "source": [
    "results_57_ILS[['best_f', 'best_x0','best_x1', 'fevals', 'run_time (s)']]"
   ]
  },
  {
   "cell_type": "code",
   "execution_count": 4,
   "metadata": {},
   "outputs": [],
   "source": [
    "results_57_BLS = run_exercise(func=exercise57, opt=SteepestDescentAlgorithm, line_search=BacktrackingLineSearch)"
   ]
  },
  {
   "cell_type": "code",
   "execution_count": 5,
   "metadata": {},
   "outputs": [
    {
     "data": {
      "text/html": [
       "<div>\n",
       "<style>\n",
       "    .dataframe thead tr:only-child th {\n",
       "        text-align: right;\n",
       "    }\n",
       "\n",
       "    .dataframe thead th {\n",
       "        text-align: left;\n",
       "    }\n",
       "\n",
       "    .dataframe tbody tr th {\n",
       "        vertical-align: top;\n",
       "    }\n",
       "</style>\n",
       "<table border=\"1\" class=\"dataframe\">\n",
       "  <thead>\n",
       "    <tr style=\"text-align: right;\">\n",
       "      <th></th>\n",
       "      <th>best_f</th>\n",
       "      <th>best_x</th>\n",
       "      <th>fevals</th>\n",
       "      <th>run_time (s)</th>\n",
       "    </tr>\n",
       "  </thead>\n",
       "  <tbody>\n",
       "    <tr>\n",
       "      <th>[-4 -4]T</th>\n",
       "      <td>1.87601</td>\n",
       "      <td>[-0.109375, 0.140625]</td>\n",
       "      <td>2009</td>\n",
       "      <td>0.336653</td>\n",
       "    </tr>\n",
       "    <tr>\n",
       "      <th>[-4 4]T</th>\n",
       "      <td>1.87601</td>\n",
       "      <td>[-0.109375, 0.140625]</td>\n",
       "      <td>2009</td>\n",
       "      <td>0.673734</td>\n",
       "    </tr>\n",
       "    <tr>\n",
       "      <th>[4 -4]T</th>\n",
       "      <td>1.87601</td>\n",
       "      <td>[0.140625, -0.109375]</td>\n",
       "      <td>2009</td>\n",
       "      <td>0.673518</td>\n",
       "    </tr>\n",
       "    <tr>\n",
       "      <th>[4 4]T</th>\n",
       "      <td>1.9375</td>\n",
       "      <td>[0.015625, 0.015625]</td>\n",
       "      <td>999</td>\n",
       "      <td>0.673095</td>\n",
       "    </tr>\n",
       "  </tbody>\n",
       "</table>\n",
       "</div>"
      ],
      "text/plain": [
       "           best_f                 best_x fevals  run_time (s)\n",
       "[-4 -4]T  1.87601  [-0.109375, 0.140625]   2009      0.336653\n",
       "[-4 4]T   1.87601  [-0.109375, 0.140625]   2009      0.673734\n",
       "[4 -4]T   1.87601  [0.140625, -0.109375]   2009      0.673518\n",
       "[4 4]T     1.9375   [0.015625, 0.015625]    999      0.673095"
      ]
     },
     "execution_count": 5,
     "metadata": {},
     "output_type": "execute_result"
    }
   ],
   "source": [
    "results_57_BLS[['best_f', 'best_x', 'fevals', 'run_time (s)']]"
   ]
  },
  {
   "cell_type": "markdown",
   "metadata": {},
   "source": [
    "## Exercício 5.8 do Antoniou\n",
    "\n",
    "Minimizar a função do exercício 5.7 utilizando o algoritmo 5.2"
   ]
  },
  {
   "cell_type": "code",
   "execution_count": 6,
   "metadata": {},
   "outputs": [],
   "source": [
    "results_58 = run_exercise(func=exercise57, opt=SteepestDescentAlgorithm, line_search=None)"
   ]
  },
  {
   "cell_type": "code",
   "execution_count": 7,
   "metadata": {},
   "outputs": [
    {
     "data": {
      "text/html": [
       "<div>\n",
       "<style>\n",
       "    .dataframe thead tr:only-child th {\n",
       "        text-align: right;\n",
       "    }\n",
       "\n",
       "    .dataframe thead th {\n",
       "        text-align: left;\n",
       "    }\n",
       "\n",
       "    .dataframe tbody tr th {\n",
       "        vertical-align: top;\n",
       "    }\n",
       "</style>\n",
       "<table border=\"1\" class=\"dataframe\">\n",
       "  <thead>\n",
       "    <tr style=\"text-align: right;\">\n",
       "      <th></th>\n",
       "      <th>best_f</th>\n",
       "      <th>best_x</th>\n",
       "      <th>fevals</th>\n",
       "      <th>run_time (s)</th>\n",
       "    </tr>\n",
       "  </thead>\n",
       "  <tbody>\n",
       "    <tr>\n",
       "      <th>[-4 -4]T</th>\n",
       "      <td>2.32583e-12</td>\n",
       "      <td>[-1.470466184578434e-06, 1.0000006393476781]</td>\n",
       "      <td>91</td>\n",
       "      <td>0.013802</td>\n",
       "    </tr>\n",
       "    <tr>\n",
       "      <th>[-4 4]T</th>\n",
       "      <td>2.32583e-12</td>\n",
       "      <td>[-1.470466184578434e-06, 1.0000006393476781]</td>\n",
       "      <td>91</td>\n",
       "      <td>0.034914</td>\n",
       "    </tr>\n",
       "    <tr>\n",
       "      <th>[4 -4]T</th>\n",
       "      <td>2.32583e-12</td>\n",
       "      <td>[1.0000006393476781, -1.470466184578434e-06]</td>\n",
       "      <td>91</td>\n",
       "      <td>0.034911</td>\n",
       "    </tr>\n",
       "    <tr>\n",
       "      <th>[4 4]T</th>\n",
       "      <td>0.110118</td>\n",
       "      <td>[0.629960524987098, 0.629960524987098]</td>\n",
       "      <td>19</td>\n",
       "      <td>0.034829</td>\n",
       "    </tr>\n",
       "  </tbody>\n",
       "</table>\n",
       "</div>"
      ],
      "text/plain": [
       "               best_f                                        best_x fevals  \\\n",
       "[-4 -4]T  2.32583e-12  [-1.470466184578434e-06, 1.0000006393476781]     91   \n",
       "[-4 4]T   2.32583e-12  [-1.470466184578434e-06, 1.0000006393476781]     91   \n",
       "[4 -4]T   2.32583e-12  [1.0000006393476781, -1.470466184578434e-06]     91   \n",
       "[4 4]T       0.110118        [0.629960524987098, 0.629960524987098]     19   \n",
       "\n",
       "          run_time (s)  \n",
       "[-4 -4]T      0.013802  \n",
       "[-4 4]T       0.034914  \n",
       "[4 -4]T       0.034911  \n",
       "[4 4]T        0.034829  "
      ]
     },
     "execution_count": 7,
     "metadata": {},
     "output_type": "execute_result"
    }
   ],
   "source": [
    "results_58[['best_f', 'best_x', 'fevals', 'run_time (s)']]"
   ]
  },
  {
   "cell_type": "markdown",
   "metadata": {},
   "source": [
    "## Exercício 5.17 do Antoniou\n",
    "\n",
    "Minimizar a função do exercício 5.7 utilizando a versão modificada do método de Newton do problema 5.15."
   ]
  },
  {
   "cell_type": "markdown",
   "metadata": {},
   "source": [
    "## Exercício 5.20 do Antoniou"
   ]
  },
  {
   "cell_type": "code",
   "execution_count": null,
   "metadata": {},
   "outputs": [],
   "source": []
  }
 ],
 "metadata": {
  "kernelspec": {
   "display_name": "Python 3",
   "language": "python",
   "name": "python3"
  },
  "language_info": {
   "codemirror_mode": {
    "name": "ipython",
    "version": 3
   },
   "file_extension": ".py",
   "mimetype": "text/x-python",
   "name": "python",
   "nbconvert_exporter": "python",
   "pygments_lexer": "ipython3",
   "version": "3.6.6"
  }
 },
 "nbformat": 4,
 "nbformat_minor": 2
}
