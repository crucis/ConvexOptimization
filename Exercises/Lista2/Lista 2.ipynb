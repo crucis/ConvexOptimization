{
 "cells": [
  {
   "cell_type": "markdown",
   "metadata": {},
   "source": [
    "# Exercícios 9.4 do Boyd e 5.7, 5.8, 5.17 e 5.20 do Antoniou"
   ]
  },
  {
   "cell_type": "markdown",
   "metadata": {},
   "source": [
    "<div style=\"text-align: right\"> \n",
    "2018/3  <br/>\n",
    "Aluno: Pedro Bandeira de Mello Martins  <br/>\n",
    "Disciplina: CPE773 - Otimização Convexa  <br/>\n",
    "Professor: Wallace A. Martins  <br/>\n",
    "PEE/COPPE - UFRJ  </div>"
   ]
  },
  {
   "cell_type": "code",
   "execution_count": 1,
   "metadata": {},
   "outputs": [],
   "source": [
    "import sys\n",
    "if '../..' not in sys.path:\n",
    "    sys.path.append('../..')\n",
    "    \n",
    "import time\n",
    "from scipy import optimize\n",
    "\n",
    "from functions import functionObj\n",
    "from functions import exercise57, exercise520\n",
    "from models.optimizers import InexactLineSearch,\\\n",
    "                              BacktrackingLineSearch,\\\n",
    "                              SteepestDescentAlgorithm,\\\n",
    "                              BasicNewtonAlgorithm\n",
    "from run_exercises import run_exercise"
   ]
  },
  {
   "cell_type": "markdown",
   "metadata": {},
   "source": [
    "## Exercício 9.4 do Boyd"
   ]
  },
  {
   "cell_type": "markdown",
   "metadata": {},
   "source": [
    "## Exercício 5.7 do Antoniou\n",
    "\n",
    "minimize $f(x) = (x_1^2+x_2^2-1)^2 + (x_1+x_2-1)^2$\n",
    "\n",
    "by applying Algorithm 5.1. Use $\\epsilon=10^{-6}$ and try the following initial points:\n",
    "1. $[4~4]^T$\n",
    "2. $[4~-4]^T$\n",
    "3. $[-4~4]^T$\n",
    "4. $[-4~-4]^T$"
   ]
  },
  {
   "cell_type": "code",
   "execution_count": 2,
   "metadata": {},
   "outputs": [
    {
     "data": {
      "text/plain": [
       "<Figure size 640x480 with 1 Axes>"
      ]
     },
     "metadata": {},
     "output_type": "display_data"
    }
   ],
   "source": [
    "results_57_ILS = run_exercise(func=exercise57, opt=SteepestDescentAlgorithm, line_search=InexactLineSearch)"
   ]
  },
  {
   "cell_type": "code",
   "execution_count": 3,
   "metadata": {},
   "outputs": [
    {
     "data": {
      "text/html": [
       "<div>\n",
       "<style scoped>\n",
       "    .dataframe tbody tr th:only-of-type {\n",
       "        vertical-align: middle;\n",
       "    }\n",
       "\n",
       "    .dataframe tbody tr th {\n",
       "        vertical-align: top;\n",
       "    }\n",
       "\n",
       "    .dataframe thead th {\n",
       "        text-align: right;\n",
       "    }\n",
       "</style>\n",
       "<table border=\"1\" class=\"dataframe\">\n",
       "  <thead>\n",
       "    <tr style=\"text-align: right;\">\n",
       "      <th></th>\n",
       "      <th>best_f</th>\n",
       "      <th>best_x0</th>\n",
       "      <th>best_x1</th>\n",
       "      <th>fevals</th>\n",
       "      <th>run_time (s)</th>\n",
       "    </tr>\n",
       "  </thead>\n",
       "  <tbody>\n",
       "    <tr>\n",
       "      <th>[4 4]T</th>\n",
       "      <td>0.112301</td>\n",
       "      <td>0.614701</td>\n",
       "      <td>0.614701</td>\n",
       "      <td>34</td>\n",
       "      <td>0.034361</td>\n",
       "    </tr>\n",
       "    <tr>\n",
       "      <th>[4 -4]T</th>\n",
       "      <td>0.887089</td>\n",
       "      <td>0.714507</td>\n",
       "      <td>-0.654364</td>\n",
       "      <td>55</td>\n",
       "      <td>0.054635</td>\n",
       "    </tr>\n",
       "    <tr>\n",
       "      <th>[-4 4]T</th>\n",
       "      <td>0.887089</td>\n",
       "      <td>-0.654364</td>\n",
       "      <td>0.714507</td>\n",
       "      <td>55</td>\n",
       "      <td>0.051937</td>\n",
       "    </tr>\n",
       "    <tr>\n",
       "      <th>[-4 -4]T</th>\n",
       "      <td>0.887089</td>\n",
       "      <td>-0.654364</td>\n",
       "      <td>0.714507</td>\n",
       "      <td>55</td>\n",
       "      <td>0.049772</td>\n",
       "    </tr>\n",
       "  </tbody>\n",
       "</table>\n",
       "</div>"
      ],
      "text/plain": [
       "            best_f   best_x0   best_x1 fevals  run_time (s)\n",
       "[4 4]T    0.112301  0.614701  0.614701     34      0.034361\n",
       "[4 -4]T   0.887089  0.714507 -0.654364     55      0.054635\n",
       "[-4 4]T   0.887089 -0.654364  0.714507     55      0.051937\n",
       "[-4 -4]T  0.887089 -0.654364  0.714507     55      0.049772"
      ]
     },
     "execution_count": 3,
     "metadata": {},
     "output_type": "execute_result"
    }
   ],
   "source": [
    "results_57_ILS[['best_f', 'best_x0','best_x1', 'fevals', 'run_time (s)']]"
   ]
  },
  {
   "cell_type": "code",
   "execution_count": 4,
   "metadata": {},
   "outputs": [
    {
     "data": {
      "image/png": "[encoded data removed]",
      "text/plain": [
       "<Figure size 432x288 with 1 Axes>"
      ]
     },
     "metadata": {
      "needs_background": "light"
     },
     "output_type": "display_data"
    }
   ],
   "source": [
    "results_57_BLS = run_exercise(func=exercise57, opt=SteepestDescentAlgorithm, line_search=BacktrackingLineSearch)"
   ]
  },
  {
   "cell_type": "code",
   "execution_count": 5,
   "metadata": {},
   "outputs": [
    {
     "data": {
      "text/html": [
       "<div>\n",
       "<style scoped>\n",
       "    .dataframe tbody tr th:only-of-type {\n",
       "        vertical-align: middle;\n",
       "    }\n",
       "\n",
       "    .dataframe tbody tr th {\n",
       "        vertical-align: top;\n",
       "    }\n",
       "\n",
       "    .dataframe thead th {\n",
       "        text-align: right;\n",
       "    }\n",
       "</style>\n",
       "<table border=\"1\" class=\"dataframe\">\n",
       "  <thead>\n",
       "    <tr style=\"text-align: right;\">\n",
       "      <th></th>\n",
       "      <th>best_f</th>\n",
       "      <th>best_x0</th>\n",
       "      <th>best_x1</th>\n",
       "      <th>fevals</th>\n",
       "      <th>run_time (s)</th>\n",
       "    </tr>\n",
       "  </thead>\n",
       "  <tbody>\n",
       "    <tr>\n",
       "      <th>[4 4]T</th>\n",
       "      <td>0.110118</td>\n",
       "      <td>0.629998</td>\n",
       "      <td>0.629998</td>\n",
       "      <td>999</td>\n",
       "      <td>0.532234</td>\n",
       "    </tr>\n",
       "    <tr>\n",
       "      <th>[4 -4]T</th>\n",
       "      <td>0.000289525</td>\n",
       "      <td>1.004230</td>\n",
       "      <td>-0.018775</td>\n",
       "      <td>2009</td>\n",
       "      <td>1.060580</td>\n",
       "    </tr>\n",
       "    <tr>\n",
       "      <th>[-4 4]T</th>\n",
       "      <td>0.000289525</td>\n",
       "      <td>-0.018775</td>\n",
       "      <td>1.004230</td>\n",
       "      <td>2009</td>\n",
       "      <td>1.050862</td>\n",
       "    </tr>\n",
       "    <tr>\n",
       "      <th>[-4 -4]T</th>\n",
       "      <td>0.000289525</td>\n",
       "      <td>-0.018775</td>\n",
       "      <td>1.004230</td>\n",
       "      <td>2009</td>\n",
       "      <td>1.061510</td>\n",
       "    </tr>\n",
       "  </tbody>\n",
       "</table>\n",
       "</div>"
      ],
      "text/plain": [
       "               best_f   best_x0   best_x1 fevals  run_time (s)\n",
       "[4 4]T       0.110118  0.629998  0.629998    999      0.532234\n",
       "[4 -4]T   0.000289525  1.004230 -0.018775   2009      1.060580\n",
       "[-4 4]T   0.000289525 -0.018775  1.004230   2009      1.050862\n",
       "[-4 -4]T  0.000289525 -0.018775  1.004230   2009      1.061510"
      ]
     },
     "execution_count": 5,
     "metadata": {},
     "output_type": "execute_result"
    }
   ],
   "source": [
    "results_57_BLS[['best_f', 'best_x0','best_x1', 'fevals', 'run_time (s)']]"
   ]
  },
  {
   "cell_type": "markdown",
   "metadata": {},
   "source": [
    "## Exercício 5.8 do Antoniou\n",
    "\n",
    "Minimizar a função do exercício 5.7 utilizando o algoritmo 5.2"
   ]
  },
  {
   "cell_type": "code",
   "execution_count": 6,
   "metadata": {},
   "outputs": [
    {
     "data": {
      "image/png": "[encoded data removed]",
      "text/plain": [
       "<Figure size 432x288 with 1 Axes>"
      ]
     },
     "metadata": {
      "needs_background": "light"
     },
     "output_type": "display_data"
    }
   ],
   "source": [
    "results_58 = run_exercise(func=exercise57, opt=SteepestDescentAlgorithm, line_search=None)"
   ]
  },
  {
   "cell_type": "code",
   "execution_count": 7,
   "metadata": {},
   "outputs": [
    {
     "data": {
      "text/html": [
       "<div>\n",
       "<style scoped>\n",
       "    .dataframe tbody tr th:only-of-type {\n",
       "        vertical-align: middle;\n",
       "    }\n",
       "\n",
       "    .dataframe tbody tr th {\n",
       "        vertical-align: top;\n",
       "    }\n",
       "\n",
       "    .dataframe thead th {\n",
       "        text-align: right;\n",
       "    }\n",
       "</style>\n",
       "<table border=\"1\" class=\"dataframe\">\n",
       "  <thead>\n",
       "    <tr style=\"text-align: right;\">\n",
       "      <th></th>\n",
       "      <th>best_f</th>\n",
       "      <th>best_x0</th>\n",
       "      <th>best_x1</th>\n",
       "      <th>fevals</th>\n",
       "      <th>run_time (s)</th>\n",
       "    </tr>\n",
       "  </thead>\n",
       "  <tbody>\n",
       "    <tr>\n",
       "      <th>[4 4]T</th>\n",
       "      <td>0.110118</td>\n",
       "      <td>0.629961</td>\n",
       "      <td>0.629961</td>\n",
       "      <td>19</td>\n",
       "      <td>0.013606</td>\n",
       "    </tr>\n",
       "    <tr>\n",
       "      <th>[4 -4]T</th>\n",
       "      <td>2.32583e-12</td>\n",
       "      <td>1.000001</td>\n",
       "      <td>-0.000001</td>\n",
       "      <td>91</td>\n",
       "      <td>0.050187</td>\n",
       "    </tr>\n",
       "    <tr>\n",
       "      <th>[-4 4]T</th>\n",
       "      <td>2.32583e-12</td>\n",
       "      <td>-0.000001</td>\n",
       "      <td>1.000001</td>\n",
       "      <td>91</td>\n",
       "      <td>0.050870</td>\n",
       "    </tr>\n",
       "    <tr>\n",
       "      <th>[-4 -4]T</th>\n",
       "      <td>2.32583e-12</td>\n",
       "      <td>-0.000001</td>\n",
       "      <td>1.000001</td>\n",
       "      <td>91</td>\n",
       "      <td>0.049326</td>\n",
       "    </tr>\n",
       "  </tbody>\n",
       "</table>\n",
       "</div>"
      ],
      "text/plain": [
       "               best_f   best_x0   best_x1 fevals  run_time (s)\n",
       "[4 4]T       0.110118  0.629961  0.629961     19      0.013606\n",
       "[4 -4]T   2.32583e-12  1.000001 -0.000001     91      0.050187\n",
       "[-4 4]T   2.32583e-12 -0.000001  1.000001     91      0.050870\n",
       "[-4 -4]T  2.32583e-12 -0.000001  1.000001     91      0.049326"
      ]
     },
     "execution_count": 7,
     "metadata": {},
     "output_type": "execute_result"
    }
   ],
   "source": [
    "results_58[['best_f', 'best_x0','best_x1', 'fevals', 'run_time (s)']]"
   ]
  },
  {
   "cell_type": "markdown",
   "metadata": {},
   "source": [
    "## Exercício 5.17 do Antoniou\n",
    "\n",
    "Minimizar a função do exercício 5.7 utilizando a versão modificada do método de Newton do problema 5.15."
   ]
  },
  {
   "cell_type": "code",
   "execution_count": 8,
   "metadata": {},
   "outputs": [
    {
     "data": {
      "image/png": "[encoded data removed]",
      "text/plain": [
       "<Figure size 432x288 with 1 Axes>"
      ]
     },
     "metadata": {
      "needs_background": "light"
     },
     "output_type": "display_data"
    }
   ],
   "source": [
    "results_517_ILS = run_exercise(func=exercise57, opt=BasicNewtonAlgorithm, line_search=InexactLineSearch)"
   ]
  },
  {
   "cell_type": "code",
   "execution_count": 9,
   "metadata": {},
   "outputs": [
    {
     "data": {
      "text/html": [
       "<div>\n",
       "<style scoped>\n",
       "    .dataframe tbody tr th:only-of-type {\n",
       "        vertical-align: middle;\n",
       "    }\n",
       "\n",
       "    .dataframe tbody tr th {\n",
       "        vertical-align: top;\n",
       "    }\n",
       "\n",
       "    .dataframe thead th {\n",
       "        text-align: right;\n",
       "    }\n",
       "</style>\n",
       "<table border=\"1\" class=\"dataframe\">\n",
       "  <thead>\n",
       "    <tr style=\"text-align: right;\">\n",
       "      <th></th>\n",
       "      <th>best_f</th>\n",
       "      <th>best_x0</th>\n",
       "      <th>best_x1</th>\n",
       "      <th>fevals</th>\n",
       "      <th>run_time (s)</th>\n",
       "    </tr>\n",
       "  </thead>\n",
       "  <tbody>\n",
       "    <tr>\n",
       "      <th>[4 4]T</th>\n",
       "      <td>0.110118</td>\n",
       "      <td>0.629960</td>\n",
       "      <td>0.629960</td>\n",
       "      <td>722</td>\n",
       "      <td>1.321701</td>\n",
       "    </tr>\n",
       "    <tr>\n",
       "      <th>[4 -4]T</th>\n",
       "      <td>0.211326</td>\n",
       "      <td>0.921996</td>\n",
       "      <td>-0.381678</td>\n",
       "      <td>7008</td>\n",
       "      <td>12.798451</td>\n",
       "    </tr>\n",
       "    <tr>\n",
       "      <th>[-4 4]T</th>\n",
       "      <td>0.211326</td>\n",
       "      <td>-0.381678</td>\n",
       "      <td>0.921996</td>\n",
       "      <td>7008</td>\n",
       "      <td>12.398938</td>\n",
       "    </tr>\n",
       "    <tr>\n",
       "      <th>[-4 -4]T</th>\n",
       "      <td>0.211326</td>\n",
       "      <td>-0.381678</td>\n",
       "      <td>0.921996</td>\n",
       "      <td>7008</td>\n",
       "      <td>12.567934</td>\n",
       "    </tr>\n",
       "  </tbody>\n",
       "</table>\n",
       "</div>"
      ],
      "text/plain": [
       "            best_f   best_x0   best_x1 fevals  run_time (s)\n",
       "[4 4]T    0.110118  0.629960  0.629960    722      1.321701\n",
       "[4 -4]T   0.211326  0.921996 -0.381678   7008     12.798451\n",
       "[-4 4]T   0.211326 -0.381678  0.921996   7008     12.398938\n",
       "[-4 -4]T  0.211326 -0.381678  0.921996   7008     12.567934"
      ]
     },
     "execution_count": 9,
     "metadata": {},
     "output_type": "execute_result"
    }
   ],
   "source": [
    "results_517_ILS[['best_f', 'best_x0','best_x1', 'fevals', 'run_time (s)']]"
   ]
  },
  {
   "cell_type": "code",
   "execution_count": 10,
   "metadata": {},
   "outputs": [
    {
     "data": {
      "image/png": "[encoded data removed]",
      "text/plain": [
       "<Figure size 432x288 with 1 Axes>"
      ]
     },
     "metadata": {
      "needs_background": "light"
     },
     "output_type": "display_data"
    }
   ],
   "source": [
    "results_517_BLS = run_exercise(func=exercise57, opt=BasicNewtonAlgorithm, line_search=BacktrackingLineSearch)"
   ]
  },
  {
   "cell_type": "code",
   "execution_count": 11,
   "metadata": {},
   "outputs": [
    {
     "data": {
      "text/html": [
       "<div>\n",
       "<style scoped>\n",
       "    .dataframe tbody tr th:only-of-type {\n",
       "        vertical-align: middle;\n",
       "    }\n",
       "\n",
       "    .dataframe tbody tr th {\n",
       "        vertical-align: top;\n",
       "    }\n",
       "\n",
       "    .dataframe thead th {\n",
       "        text-align: right;\n",
       "    }\n",
       "</style>\n",
       "<table border=\"1\" class=\"dataframe\">\n",
       "  <thead>\n",
       "    <tr style=\"text-align: right;\">\n",
       "      <th></th>\n",
       "      <th>best_f</th>\n",
       "      <th>best_x0</th>\n",
       "      <th>best_x1</th>\n",
       "      <th>fevals</th>\n",
       "      <th>run_time (s)</th>\n",
       "    </tr>\n",
       "  </thead>\n",
       "  <tbody>\n",
       "    <tr>\n",
       "      <th>[4 4]T</th>\n",
       "      <td>0.110118</td>\n",
       "      <td>6.299609e-01</td>\n",
       "      <td>6.299609e-01</td>\n",
       "      <td>58</td>\n",
       "      <td>0.098322</td>\n",
       "    </tr>\n",
       "    <tr>\n",
       "      <th>[4 -4]T</th>\n",
       "      <td>1.09257e-28</td>\n",
       "      <td>1.000000e+00</td>\n",
       "      <td>7.311143e-15</td>\n",
       "      <td>33</td>\n",
       "      <td>0.057257</td>\n",
       "    </tr>\n",
       "    <tr>\n",
       "      <th>[-4 4]T</th>\n",
       "      <td>1.09257e-28</td>\n",
       "      <td>7.326308e-15</td>\n",
       "      <td>1.000000e+00</td>\n",
       "      <td>33</td>\n",
       "      <td>0.054960</td>\n",
       "    </tr>\n",
       "    <tr>\n",
       "      <th>[-4 -4]T</th>\n",
       "      <td>1.09257e-28</td>\n",
       "      <td>7.326308e-15</td>\n",
       "      <td>1.000000e+00</td>\n",
       "      <td>33</td>\n",
       "      <td>0.055830</td>\n",
       "    </tr>\n",
       "  </tbody>\n",
       "</table>\n",
       "</div>"
      ],
      "text/plain": [
       "               best_f       best_x0       best_x1 fevals  run_time (s)\n",
       "[4 4]T       0.110118  6.299609e-01  6.299609e-01     58      0.098322\n",
       "[4 -4]T   1.09257e-28  1.000000e+00  7.311143e-15     33      0.057257\n",
       "[-4 4]T   1.09257e-28  7.326308e-15  1.000000e+00     33      0.054960\n",
       "[-4 -4]T  1.09257e-28  7.326308e-15  1.000000e+00     33      0.055830"
      ]
     },
     "execution_count": 11,
     "metadata": {},
     "output_type": "execute_result"
    }
   ],
   "source": [
    "results_517_BLS[['best_f', 'best_x0','best_x1', 'fevals', 'run_time (s)']]"
   ]
  },
  {
   "cell_type": "markdown",
   "metadata": {},
   "source": [
    "## Exercício 5.20 do Antoniou\n",
    "minimize $f(x) = (x_1 + 10x_2)^2 + 5(x_3-x_4)^2 + (x_2-2x_3)^4 + 100(x_1-x_4)^4$"
   ]
  },
  {
   "cell_type": "code",
   "execution_count": 12,
   "metadata": {},
   "outputs": [],
   "source": [
    "f_x = functionObj(exercise520)\n",
    "start_time = time.process_time()\n",
    "min_brute = optimize.brute(f_x, ((-200, 200), (-200, 200), (-200, 200), (-200, 200)), full_output=True)\n",
    "brute_time = time.process_time() - start_time"
   ]
  },
  {
   "cell_type": "code",
   "execution_count": 14,
   "metadata": {},
   "outputs": [
    {
     "data": {
      "text/plain": [
       "-0.00017018679240313395"
      ]
     },
     "execution_count": 14,
     "metadata": {},
     "output_type": "execute_result"
    }
   ],
   "source": [
    "min_brute[0][0]"
   ]
  },
  {
   "cell_type": "code",
   "execution_count": null,
   "metadata": {},
   "outputs": [],
   "source": []
  }
 ],
 "metadata": {
  "kernelspec": {
   "display_name": "Python 3",
   "language": "python",
   "name": "python3"
  },
  "language_info": {
   "codemirror_mode": {
    "name": "ipython",
    "version": 3
   },
   "file_extension": ".py",
   "mimetype": "text/x-python",
   "name": "python",
   "nbconvert_exporter": "python",
   "pygments_lexer": "ipython3",
   "version": "3.6.6"
  }
 },
 "nbformat": 4,
 "nbformat_minor": 2
}
