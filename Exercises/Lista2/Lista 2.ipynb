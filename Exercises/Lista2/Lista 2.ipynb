{
 "cells": [
  {
   "cell_type": "markdown",
   "metadata": {},
   "source": [
    "# Exercícios 9.4 do Boyd e 5.7, 5.8, 5.17 e 5.20 do Antoniou"
   ]
  },
  {
   "cell_type": "markdown",
   "metadata": {},
   "source": [
    "<div style=\"text-align: right\"> \n",
    "2018/3  <br/>\n",
    "Aluno: Pedro Bandeira de Mello Martins  <br/>\n",
    "Disciplina: CPE773 - Otimização Convexa  <br/>\n",
    "Professor: Wallace A. Martins  <br/>\n",
    "PEE/COPPE - UFRJ  </div>"
   ]
  },
  {
   "cell_type": "code",
   "execution_count": 1,
   "metadata": {},
   "outputs": [],
   "source": [
    "import sys\n",
    "if '../..' not in sys.path:\n",
    "    sys.path.append('../..')\n",
    "    \n",
    "import time\n",
    "from scipy import optimize\n",
    "\n",
    "from functions import functionObj, functionObj_multiDim\n",
    "from functions import exercise57, exercise520, exercise520_gauss\n",
    "from models.optimizers import InexactLineSearch,\\\n",
    "                              BacktrackingLineSearch,\\\n",
    "                              SteepestDescentAlgorithm,\\\n",
    "                              BasicNewtonAlgorithm,\\\n",
    "                              GaussNewtonMethod\n",
    "from run_exercises import run_exercise, run_exercise520"
   ]
  },
  {
   "cell_type": "markdown",
   "metadata": {},
   "source": [
    "## Exercício 9.4 do Boyd"
   ]
  },
  {
   "cell_type": "markdown",
   "metadata": {},
   "source": [
    "## Exercício 5.7 do Antoniou\n",
    "\n",
    "minimize $f(x) = (x_1^2+x_2^2-1)^2 + (x_1+x_2-1)^2$\n",
    "\n",
    "by applying Algorithm 5.1. Use $\\epsilon=10^{-6}$ and try the following initial points:\n",
    "1. $[4~4]^T$\n",
    "2. $[4~-4]^T$\n",
    "3. $[-4~4]^T$\n",
    "4. $[-4~-4]^T$"
   ]
  },
  {
   "cell_type": "code",
   "execution_count": 2,
   "metadata": {},
   "outputs": [
    {
     "data": {
      "text/plain": [
       "<Figure size 640x480 with 1 Axes>"
      ]
     },
     "metadata": {},
     "output_type": "display_data"
    }
   ],
   "source": [
    "results_57_ILS = run_exercise(func=exercise57, opt=SteepestDescentAlgorithm, line_search=InexactLineSearch)"
   ]
  },
  {
   "cell_type": "code",
   "execution_count": 3,
   "metadata": {},
   "outputs": [
    {
     "data": {
      "text/html": [
       "<div>\n",
       "<style scoped>\n",
       "    .dataframe tbody tr th:only-of-type {\n",
       "        vertical-align: middle;\n",
       "    }\n",
       "\n",
       "    .dataframe tbody tr th {\n",
       "        vertical-align: top;\n",
       "    }\n",
       "\n",
       "    .dataframe thead th {\n",
       "        text-align: right;\n",
       "    }\n",
       "</style>\n",
       "<table border=\"1\" class=\"dataframe\">\n",
       "  <thead>\n",
       "    <tr style=\"text-align: right;\">\n",
       "      <th></th>\n",
       "      <th>best_f</th>\n",
       "      <th>best_x0</th>\n",
       "      <th>best_x1</th>\n",
       "      <th>fevals</th>\n",
       "      <th>run_time (s)</th>\n",
       "    </tr>\n",
       "  </thead>\n",
       "  <tbody>\n",
       "    <tr>\n",
       "      <th>[4 4]T</th>\n",
       "      <td>0.112301</td>\n",
       "      <td>0.614701</td>\n",
       "      <td>0.614701</td>\n",
       "      <td>34</td>\n",
       "      <td>0.037567</td>\n",
       "    </tr>\n",
       "    <tr>\n",
       "      <th>[4 -4]T</th>\n",
       "      <td>0.887089</td>\n",
       "      <td>0.714507</td>\n",
       "      <td>-0.654364</td>\n",
       "      <td>55</td>\n",
       "      <td>0.051969</td>\n",
       "    </tr>\n",
       "    <tr>\n",
       "      <th>[-4 4]T</th>\n",
       "      <td>0.887089</td>\n",
       "      <td>-0.654364</td>\n",
       "      <td>0.714507</td>\n",
       "      <td>55</td>\n",
       "      <td>0.057142</td>\n",
       "    </tr>\n",
       "    <tr>\n",
       "      <th>[-4 -4]T</th>\n",
       "      <td>0.887089</td>\n",
       "      <td>-0.654364</td>\n",
       "      <td>0.714507</td>\n",
       "      <td>55</td>\n",
       "      <td>0.051370</td>\n",
       "    </tr>\n",
       "  </tbody>\n",
       "</table>\n",
       "</div>"
      ],
      "text/plain": [
       "            best_f   best_x0   best_x1 fevals  run_time (s)\n",
       "[4 4]T    0.112301  0.614701  0.614701     34      0.037567\n",
       "[4 -4]T   0.887089  0.714507 -0.654364     55      0.051969\n",
       "[-4 4]T   0.887089 -0.654364  0.714507     55      0.057142\n",
       "[-4 -4]T  0.887089 -0.654364  0.714507     55      0.051370"
      ]
     },
     "execution_count": 3,
     "metadata": {},
     "output_type": "execute_result"
    }
   ],
   "source": [
    "results_57_ILS[['best_f', 'best_x0','best_x1', 'fevals', 'run_time (s)']]"
   ]
  },
  {
   "cell_type": "code",
   "execution_count": 4,
   "metadata": {},
   "outputs": [
    {
     "data": {
      "image/png": "[encoded data removed]",
      "text/plain": [
       "<Figure size 432x288 with 1 Axes>"
      ]
     },
     "metadata": {
      "needs_background": "light"
     },
     "output_type": "display_data"
    }
   ],
   "source": [
    "results_57_BLS = run_exercise(func=exercise57, opt=SteepestDescentAlgorithm, line_search=BacktrackingLineSearch)"
   ]
  },
  {
   "cell_type": "code",
   "execution_count": null,
   "metadata": {},
   "outputs": [
    {
     "data": {
      "text/html": [
       "<div>\n",
       "<style scoped>\n",
       "    .dataframe tbody tr th:only-of-type {\n",
       "        vertical-align: middle;\n",
       "    }\n",
       "\n",
       "    .dataframe tbody tr th {\n",
       "        vertical-align: top;\n",
       "    }\n",
       "\n",
       "    .dataframe thead th {\n",
       "        text-align: right;\n",
       "    }\n",
       "</style>\n",
       "<table border=\"1\" class=\"dataframe\">\n",
       "  <thead>\n",
       "    <tr style=\"text-align: right;\">\n",
       "      <th></th>\n",
       "      <th>best_f</th>\n",
       "      <th>best_x0</th>\n",
       "      <th>best_x1</th>\n",
       "      <th>fevals</th>\n",
       "      <th>run_time (s)</th>\n",
       "    </tr>\n",
       "  </thead>\n",
       "  <tbody>\n",
       "    <tr>\n",
       "      <th>[4 4]T</th>\n",
       "      <td>0.110118</td>\n",
       "      <td>0.629998</td>\n",
       "      <td>0.629998</td>\n",
       "      <td>999</td>\n",
       "      <td>0.585600</td>\n",
       "    </tr>\n",
       "    <tr>\n",
       "      <th>[4 -4]T</th>\n",
       "      <td>0.000289525</td>\n",
       "      <td>1.004230</td>\n",
       "      <td>-0.018775</td>\n",
       "      <td>2009</td>\n",
       "      <td>1.049260</td>\n",
       "    </tr>\n",
       "    <tr>\n",
       "      <th>[-4 4]T</th>\n",
       "      <td>0.000289525</td>\n",
       "      <td>-0.018775</td>\n",
       "      <td>1.004230</td>\n",
       "      <td>2009</td>\n",
       "      <td>1.045178</td>\n",
       "    </tr>\n",
       "    <tr>\n",
       "      <th>[-4 -4]T</th>\n",
       "      <td>0.000289525</td>\n",
       "      <td>-0.018775</td>\n",
       "      <td>1.004230</td>\n",
       "      <td>2009</td>\n",
       "      <td>1.047830</td>\n",
       "    </tr>\n",
       "  </tbody>\n",
       "</table>\n",
       "</div>"
      ],
      "text/plain": [
       "               best_f   best_x0   best_x1 fevals  run_time (s)\n",
       "[4 4]T       0.110118  0.629998  0.629998    999      0.585600\n",
       "[4 -4]T   0.000289525  1.004230 -0.018775   2009      1.049260\n",
       "[-4 4]T   0.000289525 -0.018775  1.004230   2009      1.045178\n",
       "[-4 -4]T  0.000289525 -0.018775  1.004230   2009      1.047830"
      ]
     },
     "execution_count": 5,
     "metadata": {},
     "output_type": "execute_result"
    }
   ],
   "source": [
    "results_57_BLS[['best_f', 'best_x0','best_x1', 'fevals', 'run_time (s)']]"
   ]
  },
  {
   "cell_type": "markdown",
   "metadata": {},
   "source": [
    "## Exercício 5.8 do Antoniou\n",
    "\n",
    "Minimizar a função do exercício 5.7 utilizando o algoritmo 5.2"
   ]
  },
  {
   "cell_type": "code",
   "execution_count": null,
   "metadata": {},
   "outputs": [
    {
     "data": {
      "image/png": "[encoded data removed]",
      "text/plain": [
       "<Figure size 432x288 with 1 Axes>"
      ]
     },
     "metadata": {
      "needs_background": "light"
     },
     "output_type": "display_data"
    }
   ],
   "source": [
    "results_58 = run_exercise(func=exercise57, opt=SteepestDescentAlgorithm, line_search=None)"
   ]
  },
  {
   "cell_type": "code",
   "execution_count": null,
   "metadata": {},
   "outputs": [
    {
     "data": {
      "text/html": [
       "<div>\n",
       "<style scoped>\n",
       "    .dataframe tbody tr th:only-of-type {\n",
       "        vertical-align: middle;\n",
       "    }\n",
       "\n",
       "    .dataframe tbody tr th {\n",
       "        vertical-align: top;\n",
       "    }\n",
       "\n",
       "    .dataframe thead th {\n",
       "        text-align: right;\n",
       "    }\n",
       "</style>\n",
       "<table border=\"1\" class=\"dataframe\">\n",
       "  <thead>\n",
       "    <tr style=\"text-align: right;\">\n",
       "      <th></th>\n",
       "      <th>best_f</th>\n",
       "      <th>best_x0</th>\n",
       "      <th>best_x1</th>\n",
       "      <th>fevals</th>\n",
       "      <th>run_time (s)</th>\n",
       "    </tr>\n",
       "  </thead>\n",
       "  <tbody>\n",
       "    <tr>\n",
       "      <th>[4 4]T</th>\n",
       "      <td>0.110118</td>\n",
       "      <td>0.629961</td>\n",
       "      <td>0.629961</td>\n",
       "      <td>19</td>\n",
       "      <td>0.023927</td>\n",
       "    </tr>\n",
       "    <tr>\n",
       "      <th>[4 -4]T</th>\n",
       "      <td>2.32583e-12</td>\n",
       "      <td>1.000001</td>\n",
       "      <td>-0.000001</td>\n",
       "      <td>91</td>\n",
       "      <td>0.049242</td>\n",
       "    </tr>\n",
       "    <tr>\n",
       "      <th>[-4 4]T</th>\n",
       "      <td>2.32583e-12</td>\n",
       "      <td>-0.000001</td>\n",
       "      <td>1.000001</td>\n",
       "      <td>91</td>\n",
       "      <td>0.048989</td>\n",
       "    </tr>\n",
       "    <tr>\n",
       "      <th>[-4 -4]T</th>\n",
       "      <td>2.32583e-12</td>\n",
       "      <td>-0.000001</td>\n",
       "      <td>1.000001</td>\n",
       "      <td>91</td>\n",
       "      <td>0.050650</td>\n",
       "    </tr>\n",
       "  </tbody>\n",
       "</table>\n",
       "</div>"
      ],
      "text/plain": [
       "               best_f   best_x0   best_x1 fevals  run_time (s)\n",
       "[4 4]T       0.110118  0.629961  0.629961     19      0.023927\n",
       "[4 -4]T   2.32583e-12  1.000001 -0.000001     91      0.049242\n",
       "[-4 4]T   2.32583e-12 -0.000001  1.000001     91      0.048989\n",
       "[-4 -4]T  2.32583e-12 -0.000001  1.000001     91      0.050650"
      ]
     },
     "execution_count": 7,
     "metadata": {},
     "output_type": "execute_result"
    }
   ],
   "source": [
    "results_58[['best_f', 'best_x0','best_x1', 'fevals', 'run_time (s)']]"
   ]
  },
  {
   "cell_type": "markdown",
   "metadata": {},
   "source": [
    "## Exercício 5.17 do Antoniou\n",
    "\n",
    "Minimizar a função do exercício 5.7 utilizando a versão modificada do método de Newton do problema 5.15."
   ]
  },
  {
   "cell_type": "code",
   "execution_count": null,
   "metadata": {},
   "outputs": [
    {
     "data": {
      "image/png": "[encoded data removed]",
      "text/plain": [
       "<Figure size 432x288 with 1 Axes>"
      ]
     },
     "metadata": {
      "needs_background": "light"
     },
     "output_type": "display_data"
    }
   ],
   "source": [
    "results_517_ILS = run_exercise(func=exercise57, opt=BasicNewtonAlgorithm, line_search=InexactLineSearch)"
   ]
  },
  {
   "cell_type": "code",
   "execution_count": null,
   "metadata": {},
   "outputs": [
    {
     "data": {
      "text/html": [
       "<div>\n",
       "<style scoped>\n",
       "    .dataframe tbody tr th:only-of-type {\n",
       "        vertical-align: middle;\n",
       "    }\n",
       "\n",
       "    .dataframe tbody tr th {\n",
       "        vertical-align: top;\n",
       "    }\n",
       "\n",
       "    .dataframe thead th {\n",
       "        text-align: right;\n",
       "    }\n",
       "</style>\n",
       "<table border=\"1\" class=\"dataframe\">\n",
       "  <thead>\n",
       "    <tr style=\"text-align: right;\">\n",
       "      <th></th>\n",
       "      <th>best_f</th>\n",
       "      <th>best_x0</th>\n",
       "      <th>best_x1</th>\n",
       "      <th>fevals</th>\n",
       "      <th>run_time (s)</th>\n",
       "    </tr>\n",
       "  </thead>\n",
       "  <tbody>\n",
       "    <tr>\n",
       "      <th>[4 4]T</th>\n",
       "      <td>0.110118</td>\n",
       "      <td>0.629960</td>\n",
       "      <td>0.629960</td>\n",
       "      <td>722</td>\n",
       "      <td>1.317274</td>\n",
       "    </tr>\n",
       "    <tr>\n",
       "      <th>[4 -4]T</th>\n",
       "      <td>0.211326</td>\n",
       "      <td>0.921996</td>\n",
       "      <td>-0.381678</td>\n",
       "      <td>7008</td>\n",
       "      <td>12.849016</td>\n",
       "    </tr>\n",
       "    <tr>\n",
       "      <th>[-4 4]T</th>\n",
       "      <td>0.211326</td>\n",
       "      <td>-0.381678</td>\n",
       "      <td>0.921996</td>\n",
       "      <td>7008</td>\n",
       "      <td>12.540036</td>\n",
       "    </tr>\n",
       "    <tr>\n",
       "      <th>[-4 -4]T</th>\n",
       "      <td>0.211326</td>\n",
       "      <td>-0.381678</td>\n",
       "      <td>0.921996</td>\n",
       "      <td>7008</td>\n",
       "      <td>12.673261</td>\n",
       "    </tr>\n",
       "  </tbody>\n",
       "</table>\n",
       "</div>"
      ],
      "text/plain": [
       "            best_f   best_x0   best_x1 fevals  run_time (s)\n",
       "[4 4]T    0.110118  0.629960  0.629960    722      1.317274\n",
       "[4 -4]T   0.211326  0.921996 -0.381678   7008     12.849016\n",
       "[-4 4]T   0.211326 -0.381678  0.921996   7008     12.540036\n",
       "[-4 -4]T  0.211326 -0.381678  0.921996   7008     12.673261"
      ]
     },
     "execution_count": 9,
     "metadata": {},
     "output_type": "execute_result"
    }
   ],
   "source": [
    "results_517_ILS[['best_f', 'best_x0','best_x1', 'fevals', 'run_time (s)']]"
   ]
  },
  {
   "cell_type": "code",
   "execution_count": null,
   "metadata": {},
   "outputs": [
    {
     "data": {
      "image/png": "[encoded data removed]",
      "text/plain": [
       "<Figure size 432x288 with 1 Axes>"
      ]
     },
     "metadata": {
      "needs_background": "light"
     },
     "output_type": "display_data"
    }
   ],
   "source": [
    "results_517_BLS = run_exercise(func=exercise57, opt=BasicNewtonAlgorithm, line_search=BacktrackingLineSearch)"
   ]
  },
  {
   "cell_type": "code",
   "execution_count": null,
   "metadata": {},
   "outputs": [
    {
     "data": {
      "text/html": [
       "<div>\n",
       "<style scoped>\n",
       "    .dataframe tbody tr th:only-of-type {\n",
       "        vertical-align: middle;\n",
       "    }\n",
       "\n",
       "    .dataframe tbody tr th {\n",
       "        vertical-align: top;\n",
       "    }\n",
       "\n",
       "    .dataframe thead th {\n",
       "        text-align: right;\n",
       "    }\n",
       "</style>\n",
       "<table border=\"1\" class=\"dataframe\">\n",
       "  <thead>\n",
       "    <tr style=\"text-align: right;\">\n",
       "      <th></th>\n",
       "      <th>best_f</th>\n",
       "      <th>best_x0</th>\n",
       "      <th>best_x1</th>\n",
       "      <th>fevals</th>\n",
       "      <th>run_time (s)</th>\n",
       "    </tr>\n",
       "  </thead>\n",
       "  <tbody>\n",
       "    <tr>\n",
       "      <th>[4 4]T</th>\n",
       "      <td>0.110118</td>\n",
       "      <td>6.299609e-01</td>\n",
       "      <td>6.299609e-01</td>\n",
       "      <td>58</td>\n",
       "      <td>0.096867</td>\n",
       "    </tr>\n",
       "    <tr>\n",
       "      <th>[4 -4]T</th>\n",
       "      <td>1.09257e-28</td>\n",
       "      <td>1.000000e+00</td>\n",
       "      <td>7.311143e-15</td>\n",
       "      <td>33</td>\n",
       "      <td>0.056534</td>\n",
       "    </tr>\n",
       "    <tr>\n",
       "      <th>[-4 4]T</th>\n",
       "      <td>1.09257e-28</td>\n",
       "      <td>7.326308e-15</td>\n",
       "      <td>1.000000e+00</td>\n",
       "      <td>33</td>\n",
       "      <td>0.055967</td>\n",
       "    </tr>\n",
       "    <tr>\n",
       "      <th>[-4 -4]T</th>\n",
       "      <td>1.09257e-28</td>\n",
       "      <td>7.326308e-15</td>\n",
       "      <td>1.000000e+00</td>\n",
       "      <td>33</td>\n",
       "      <td>0.056049</td>\n",
       "    </tr>\n",
       "  </tbody>\n",
       "</table>\n",
       "</div>"
      ],
      "text/plain": [
       "               best_f       best_x0       best_x1 fevals  run_time (s)\n",
       "[4 4]T       0.110118  6.299609e-01  6.299609e-01     58      0.096867\n",
       "[4 -4]T   1.09257e-28  1.000000e+00  7.311143e-15     33      0.056534\n",
       "[-4 4]T   1.09257e-28  7.326308e-15  1.000000e+00     33      0.055967\n",
       "[-4 -4]T  1.09257e-28  7.326308e-15  1.000000e+00     33      0.056049"
      ]
     },
     "execution_count": 11,
     "metadata": {},
     "output_type": "execute_result"
    }
   ],
   "source": [
    "results_517_BLS[['best_f', 'best_x0','best_x1', 'fevals', 'run_time (s)']]"
   ]
  },
  {
   "cell_type": "markdown",
   "metadata": {},
   "source": [
    "## Exercício 5.20 do Antoniou\n",
    "minimize $f(x) = (x_1 + 10x_2)^2 + 5(x_3-x_4)^2 + (x_2-2x_3)^4 + 100(x_1-x_4)^4$"
   ]
  },
  {
   "cell_type": "markdown",
   "metadata": {},
   "source": [
    "### item a)"
   ]
  },
  {
   "cell_type": "code",
   "execution_count": null,
   "metadata": {},
   "outputs": [],
   "source": [
    "f_x = functionObj(exercise520)\n",
    "start_time = time.process_time()\n",
    "min_brute = optimize.brute(f_x, ((0, 200), (0, 200), (0, 200), (0, 200)), full_output=True)\n",
    "brute_time = time.process_time() - start_time"
   ]
  },
  {
   "cell_type": "code",
   "execution_count": null,
   "metadata": {},
   "outputs": [
    {
     "name": "stdout",
     "output_type": "stream",
     "text": [
      "Minimum X found with brute force: [0.000000 0.000000 0.000000 0.000000]\n",
      "Minimum found with brute force: 0.000000000\n",
      "Time to find it with brute force: 11.654636074 s\n",
      "Function evals with brute force: 160041\n"
     ]
    }
   ],
   "source": [
    "print('Minimum X found with brute force: [%.6f %.6f %.6f %.6f]'%(f_x.best_x[0], f_x.best_x[1], f_x.best_x[2], f_x.best_x[3]))\n",
    "print('Minimum found with brute force: %.9f'%min_brute[0][0])\n",
    "print('Time to find it with brute force: %.9f s'%brute_time)\n",
    "print('Function evals with brute force: %d'%f_x.fevals)"
   ]
  },
  {
   "cell_type": "markdown",
   "metadata": {},
   "source": [
    "### item b)"
   ]
  },
  {
   "cell_type": "code",
   "execution_count": null,
   "metadata": {},
   "outputs": [
    {
     "data": {
      "image/png": "[encoded data removed]",
      "text/plain": [
       "<Figure size 432x288 with 1 Axes>"
      ]
     },
     "metadata": {
      "needs_background": "light"
     },
     "output_type": "display_data"
    }
   ],
   "source": [
    "results_520_SDA = run_exercise520(func=exercise520, opt=SteepestDescentAlgorithm, line_search=InexactLineSearch)"
   ]
  },
  {
   "cell_type": "code",
   "execution_count": null,
   "metadata": {},
   "outputs": [
    {
     "data": {
      "text/html": [
       "<div>\n",
       "<style scoped>\n",
       "    .dataframe tbody tr th:only-of-type {\n",
       "        vertical-align: middle;\n",
       "    }\n",
       "\n",
       "    .dataframe tbody tr th {\n",
       "        vertical-align: top;\n",
       "    }\n",
       "\n",
       "    .dataframe thead th {\n",
       "        text-align: right;\n",
       "    }\n",
       "</style>\n",
       "<table border=\"1\" class=\"dataframe\">\n",
       "  <thead>\n",
       "    <tr style=\"text-align: right;\">\n",
       "      <th></th>\n",
       "      <th>best_f</th>\n",
       "      <th>best_x0</th>\n",
       "      <th>best_x1</th>\n",
       "      <th>fevals</th>\n",
       "      <th>run_time (s)</th>\n",
       "    </tr>\n",
       "  </thead>\n",
       "  <tbody>\n",
       "    <tr>\n",
       "      <th>[-2 -1 1 2]T</th>\n",
       "      <td>23.028</td>\n",
       "      <td>0.106294</td>\n",
       "      <td>-0.372972</td>\n",
       "      <td>8081</td>\n",
       "      <td>16.745437</td>\n",
       "    </tr>\n",
       "    <tr>\n",
       "      <th>[200 -200 100 -100]T</th>\n",
       "      <td>7.64299e+08</td>\n",
       "      <td>41.863384</td>\n",
       "      <td>-153.133783</td>\n",
       "      <td>8434</td>\n",
       "      <td>16.338221</td>\n",
       "    </tr>\n",
       "  </tbody>\n",
       "</table>\n",
       "</div>"
      ],
      "text/plain": [
       "                           best_f    best_x0     best_x1 fevals  run_time (s)\n",
       "[-2 -1 1 2]T               23.028   0.106294   -0.372972   8081     16.745437\n",
       "[200 -200 100 -100]T  7.64299e+08  41.863384 -153.133783   8434     16.338221"
      ]
     },
     "execution_count": 15,
     "metadata": {},
     "output_type": "execute_result"
    }
   ],
   "source": [
    "results_520_SDA[['best_f', 'best_x0','best_x1', 'fevals', 'run_time (s)']]"
   ]
  },
  {
   "cell_type": "markdown",
   "metadata": {},
   "source": [
    "### item c)"
   ]
  },
  {
   "cell_type": "code",
   "execution_count": null,
   "metadata": {},
   "outputs": [],
   "source": [
    "results_520_BNA = run_exercise520(func=exercise520, opt=BasicNewtonAlgorithm, line_search=InexactLineSearch)"
   ]
  },
  {
   "cell_type": "code",
   "execution_count": null,
   "metadata": {},
   "outputs": [],
   "source": [
    "results_520_BNA[['best_f', 'best_x0','best_x1', 'fevals', 'run_time (s)']]"
   ]
  },
  {
   "cell_type": "markdown",
   "metadata": {},
   "source": [
    "### item d)"
   ]
  },
  {
   "cell_type": "code",
   "execution_count": null,
   "metadata": {},
   "outputs": [],
   "source": [
    "results_520_GNA = run_exercise520(func=functionObj_multiDim(exercise520_gauss), \n",
    "                                  opt=GaussNewtonMethod, line_search=InexactLineSearch)"
   ]
  },
  {
   "cell_type": "code",
   "execution_count": null,
   "metadata": {},
   "outputs": [],
   "source": []
  },
  {
   "cell_type": "code",
   "execution_count": null,
   "metadata": {},
   "outputs": [],
   "source": [
    "results_520_GNA[['best_f', 'best_x0','best_x1', 'fevals', 'run_time (s)']]"
   ]
  }
 ],
 "metadata": {
  "kernelspec": {
   "display_name": "Python 3",
   "language": "python",
   "name": "python3"
  },
  "language_info": {
   "codemirror_mode": {
    "name": "ipython",
    "version": 3
   },
   "file_extension": ".py",
   "mimetype": "text/x-python",
   "name": "python",
   "nbconvert_exporter": "python",
   "pygments_lexer": "ipython3",
   "version": "3.6.6"
  }
 },
 "nbformat": 4,
 "nbformat_minor": 2
}
