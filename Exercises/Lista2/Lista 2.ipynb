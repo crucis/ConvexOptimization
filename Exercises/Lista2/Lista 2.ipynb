{
 "cells": [
  {
   "cell_type": "markdown",
   "metadata": {},
   "source": [
    "# Exercícios 9.4 do Boyd e 5.7, 5.8, 5.17 e 5.20 do Antoniou"
   ]
  },
  {
   "cell_type": "markdown",
   "metadata": {},
   "source": [
    "<div style=\"text-align: right\"> \n",
    "2018/3  <br/>\n",
    "Aluno: Pedro Bandeira de Mello Martins  <br/>\n",
    "Disciplina: CPE773 - Otimização Convexa  <br/>\n",
    "Professor: Wallace A. Martins  <br/>\n",
    "PEE/COPPE - UFRJ  </div>"
   ]
  },
  {
   "cell_type": "code",
   "execution_count": 1,
   "metadata": {},
   "outputs": [],
   "source": [
    "import sys\n",
    "if '../..' not in sys.path:\n",
    "    sys.path.append('../..')\n",
    "    \n",
    "import time\n",
    "\n",
    "from functions import functionObj\n",
    "from functions import exercise57\n",
    "from models.optimizers import InexactLineSearch,\\\n",
    "                              BacktrackingLineSearch,\\\n",
    "                              SteepestDescentAlgorithm,\\\n",
    "                              BasicNewtonAlgorithm\n",
    "from run_exercises import run_exercise"
   ]
  },
  {
   "cell_type": "markdown",
   "metadata": {},
   "source": [
    "## Exercício 9.4 do Boyd"
   ]
  },
  {
   "cell_type": "markdown",
   "metadata": {},
   "source": [
    "## Exercício 5.7 do Antoniou\n",
    "\n",
    "minimize $f(x) = (x_1^2+x_2^2-1)^2 + (x_1+x_2-1)^2$\n",
    "\n",
    "by applying Algorithm 5.1. Use $\\epsilon=10^{-6}$ and try the following initial points:\n",
    "1. $[4~4]^T$\n",
    "2. $[4~-4]^T$\n",
    "3. $[-4~4]^T$\n",
    "4. $[-4~-4]^T$"
   ]
  },
  {
   "cell_type": "code",
   "execution_count": 2,
   "metadata": {},
   "outputs": [],
   "source": [
    "results_57_ILS = run_exercise(func=exercise57, opt=SteepestDescentAlgorithm, line_search=InexactLineSearch)"
   ]
  },
  {
   "cell_type": "code",
   "execution_count": 3,
   "metadata": {},
   "outputs": [
    {
     "data": {
      "text/html": [
       "<div>\n",
       "<style>\n",
       "    .dataframe thead tr:only-child th {\n",
       "        text-align: right;\n",
       "    }\n",
       "\n",
       "    .dataframe thead th {\n",
       "        text-align: left;\n",
       "    }\n",
       "\n",
       "    .dataframe tbody tr th {\n",
       "        vertical-align: top;\n",
       "    }\n",
       "</style>\n",
       "<table border=\"1\" class=\"dataframe\">\n",
       "  <thead>\n",
       "    <tr style=\"text-align: right;\">\n",
       "      <th></th>\n",
       "      <th>best_f</th>\n",
       "      <th>best_x0</th>\n",
       "      <th>best_x1</th>\n",
       "      <th>fevals</th>\n",
       "      <th>run_time (s)</th>\n",
       "    </tr>\n",
       "  </thead>\n",
       "  <tbody>\n",
       "    <tr>\n",
       "      <th>[-4 -4]T</th>\n",
       "      <td>0.887089</td>\n",
       "      <td>-0.654364</td>\n",
       "      <td>0.714507</td>\n",
       "      <td>55</td>\n",
       "      <td>0.014878</td>\n",
       "    </tr>\n",
       "    <tr>\n",
       "      <th>[-4 4]T</th>\n",
       "      <td>0.887089</td>\n",
       "      <td>-0.654364</td>\n",
       "      <td>0.714507</td>\n",
       "      <td>55</td>\n",
       "      <td>0.028629</td>\n",
       "    </tr>\n",
       "    <tr>\n",
       "      <th>[4 -4]T</th>\n",
       "      <td>0.887089</td>\n",
       "      <td>0.714507</td>\n",
       "      <td>-0.654364</td>\n",
       "      <td>55</td>\n",
       "      <td>0.029203</td>\n",
       "    </tr>\n",
       "    <tr>\n",
       "      <th>[4 4]T</th>\n",
       "      <td>0.112301</td>\n",
       "      <td>0.614701</td>\n",
       "      <td>0.614701</td>\n",
       "      <td>34</td>\n",
       "      <td>0.028599</td>\n",
       "    </tr>\n",
       "  </tbody>\n",
       "</table>\n",
       "</div>"
      ],
      "text/plain": [
       "            best_f   best_x0   best_x1 fevals  run_time (s)\n",
       "[-4 -4]T  0.887089 -0.654364  0.714507     55      0.014878\n",
       "[-4 4]T   0.887089 -0.654364  0.714507     55      0.028629\n",
       "[4 -4]T   0.887089  0.714507 -0.654364     55      0.029203\n",
       "[4 4]T    0.112301  0.614701  0.614701     34      0.028599"
      ]
     },
     "execution_count": 3,
     "metadata": {},
     "output_type": "execute_result"
    }
   ],
   "source": [
    "results_57_ILS[['best_f', 'best_x0','best_x1', 'fevals', 'run_time (s)']]"
   ]
  },
  {
   "cell_type": "code",
   "execution_count": 4,
   "metadata": {},
   "outputs": [],
   "source": [
    "results_57_BLS = run_exercise(func=exercise57, opt=SteepestDescentAlgorithm, line_search=BacktrackingLineSearch)"
   ]
  },
  {
   "cell_type": "code",
   "execution_count": 5,
   "metadata": {},
   "outputs": [
    {
     "data": {
      "text/html": [
       "<div>\n",
       "<style>\n",
       "    .dataframe thead tr:only-child th {\n",
       "        text-align: right;\n",
       "    }\n",
       "\n",
       "    .dataframe thead th {\n",
       "        text-align: left;\n",
       "    }\n",
       "\n",
       "    .dataframe tbody tr th {\n",
       "        vertical-align: top;\n",
       "    }\n",
       "</style>\n",
       "<table border=\"1\" class=\"dataframe\">\n",
       "  <thead>\n",
       "    <tr style=\"text-align: right;\">\n",
       "      <th></th>\n",
       "      <th>best_f</th>\n",
       "      <th>best_x</th>\n",
       "      <th>fevals</th>\n",
       "      <th>run_time (s)</th>\n",
       "    </tr>\n",
       "  </thead>\n",
       "  <tbody>\n",
       "    <tr>\n",
       "      <th>[-4 -4]T</th>\n",
       "      <td>0.000289525</td>\n",
       "      <td>[-0.018774720024764657, 1.0042300014854966]</td>\n",
       "      <td>2009</td>\n",
       "      <td>0.314732</td>\n",
       "    </tr>\n",
       "    <tr>\n",
       "      <th>[-4 4]T</th>\n",
       "      <td>0.000289525</td>\n",
       "      <td>[-0.018774720024764657, 1.0042300014854966]</td>\n",
       "      <td>2009</td>\n",
       "      <td>0.625249</td>\n",
       "    </tr>\n",
       "    <tr>\n",
       "      <th>[4 -4]T</th>\n",
       "      <td>0.000289525</td>\n",
       "      <td>[1.0042300014854966, -0.018774720024764657]</td>\n",
       "      <td>2009</td>\n",
       "      <td>0.625734</td>\n",
       "    </tr>\n",
       "    <tr>\n",
       "      <th>[4 4]T</th>\n",
       "      <td>0.110118</td>\n",
       "      <td>[0.6299976403769013, 0.6299976403769013]</td>\n",
       "      <td>999</td>\n",
       "      <td>0.626247</td>\n",
       "    </tr>\n",
       "  </tbody>\n",
       "</table>\n",
       "</div>"
      ],
      "text/plain": [
       "               best_f                                       best_x fevals  \\\n",
       "[-4 -4]T  0.000289525  [-0.018774720024764657, 1.0042300014854966]   2009   \n",
       "[-4 4]T   0.000289525  [-0.018774720024764657, 1.0042300014854966]   2009   \n",
       "[4 -4]T   0.000289525  [1.0042300014854966, -0.018774720024764657]   2009   \n",
       "[4 4]T       0.110118     [0.6299976403769013, 0.6299976403769013]    999   \n",
       "\n",
       "          run_time (s)  \n",
       "[-4 -4]T      0.314732  \n",
       "[-4 4]T       0.625249  \n",
       "[4 -4]T       0.625734  \n",
       "[4 4]T        0.626247  "
      ]
     },
     "execution_count": 5,
     "metadata": {},
     "output_type": "execute_result"
    }
   ],
   "source": [
    "results_57_BLS[['best_f', 'best_x', 'fevals', 'run_time (s)']]"
   ]
  },
  {
   "cell_type": "markdown",
   "metadata": {},
   "source": [
    "## Exercício 5.8 do Antoniou\n",
    "\n",
    "Minimizar a função do exercício 5.7 utilizando o algoritmo 5.2"
   ]
  },
  {
   "cell_type": "code",
   "execution_count": 6,
   "metadata": {},
   "outputs": [],
   "source": [
    "results_58 = run_exercise(func=exercise57, opt=SteepestDescentAlgorithm, line_search=None)"
   ]
  },
  {
   "cell_type": "code",
   "execution_count": 7,
   "metadata": {},
   "outputs": [
    {
     "data": {
      "text/html": [
       "<div>\n",
       "<style>\n",
       "    .dataframe thead tr:only-child th {\n",
       "        text-align: right;\n",
       "    }\n",
       "\n",
       "    .dataframe thead th {\n",
       "        text-align: left;\n",
       "    }\n",
       "\n",
       "    .dataframe tbody tr th {\n",
       "        vertical-align: top;\n",
       "    }\n",
       "</style>\n",
       "<table border=\"1\" class=\"dataframe\">\n",
       "  <thead>\n",
       "    <tr style=\"text-align: right;\">\n",
       "      <th></th>\n",
       "      <th>best_f</th>\n",
       "      <th>best_x</th>\n",
       "      <th>fevals</th>\n",
       "      <th>run_time (s)</th>\n",
       "    </tr>\n",
       "  </thead>\n",
       "  <tbody>\n",
       "    <tr>\n",
       "      <th>[-4 -4]T</th>\n",
       "      <td>2.32583e-12</td>\n",
       "      <td>[-1.470466184578434e-06, 1.0000006393476781]</td>\n",
       "      <td>91</td>\n",
       "      <td>0.008511</td>\n",
       "    </tr>\n",
       "    <tr>\n",
       "      <th>[-4 4]T</th>\n",
       "      <td>2.32583e-12</td>\n",
       "      <td>[-1.470466184578434e-06, 1.0000006393476781]</td>\n",
       "      <td>91</td>\n",
       "      <td>0.028961</td>\n",
       "    </tr>\n",
       "    <tr>\n",
       "      <th>[4 -4]T</th>\n",
       "      <td>2.32583e-12</td>\n",
       "      <td>[1.0000006393476781, -1.470466184578434e-06]</td>\n",
       "      <td>91</td>\n",
       "      <td>0.028857</td>\n",
       "    </tr>\n",
       "    <tr>\n",
       "      <th>[4 4]T</th>\n",
       "      <td>0.110118</td>\n",
       "      <td>[0.629960524987098, 0.629960524987098]</td>\n",
       "      <td>19</td>\n",
       "      <td>0.028895</td>\n",
       "    </tr>\n",
       "  </tbody>\n",
       "</table>\n",
       "</div>"
      ],
      "text/plain": [
       "               best_f                                        best_x fevals  \\\n",
       "[-4 -4]T  2.32583e-12  [-1.470466184578434e-06, 1.0000006393476781]     91   \n",
       "[-4 4]T   2.32583e-12  [-1.470466184578434e-06, 1.0000006393476781]     91   \n",
       "[4 -4]T   2.32583e-12  [1.0000006393476781, -1.470466184578434e-06]     91   \n",
       "[4 4]T       0.110118        [0.629960524987098, 0.629960524987098]     19   \n",
       "\n",
       "          run_time (s)  \n",
       "[-4 -4]T      0.008511  \n",
       "[-4 4]T       0.028961  \n",
       "[4 -4]T       0.028857  \n",
       "[4 4]T        0.028895  "
      ]
     },
     "execution_count": 7,
     "metadata": {},
     "output_type": "execute_result"
    }
   ],
   "source": [
    "results_58[['best_f', 'best_x', 'fevals', 'run_time (s)']]"
   ]
  },
  {
   "cell_type": "markdown",
   "metadata": {},
   "source": [
    "## Exercício 5.17 do Antoniou\n",
    "\n",
    "Minimizar a função do exercício 5.7 utilizando a versão modificada do método de Newton do problema 5.15."
   ]
  },
  {
   "cell_type": "code",
   "execution_count": 8,
   "metadata": {},
   "outputs": [],
   "source": [
    "results_517_ILS = run_exercise(func=exercise57, opt=BasicNewtonAlgorithm, line_search=InexactLineSearch)"
   ]
  },
  {
   "cell_type": "code",
   "execution_count": 9,
   "metadata": {},
   "outputs": [
    {
     "data": {
      "text/html": [
       "<div>\n",
       "<style>\n",
       "    .dataframe thead tr:only-child th {\n",
       "        text-align: right;\n",
       "    }\n",
       "\n",
       "    .dataframe thead th {\n",
       "        text-align: left;\n",
       "    }\n",
       "\n",
       "    .dataframe tbody tr th {\n",
       "        vertical-align: top;\n",
       "    }\n",
       "</style>\n",
       "<table border=\"1\" class=\"dataframe\">\n",
       "  <thead>\n",
       "    <tr style=\"text-align: right;\">\n",
       "      <th></th>\n",
       "      <th>best_f</th>\n",
       "      <th>best_x</th>\n",
       "      <th>fevals</th>\n",
       "      <th>run_time (s)</th>\n",
       "    </tr>\n",
       "  </thead>\n",
       "  <tbody>\n",
       "    <tr>\n",
       "      <th>[-4 -4]T</th>\n",
       "      <td>0.887089</td>\n",
       "      <td>[-0.6543644494024464, 0.714506702766182]</td>\n",
       "      <td>55</td>\n",
       "      <td>0.014822</td>\n",
       "    </tr>\n",
       "    <tr>\n",
       "      <th>[-4 4]T</th>\n",
       "      <td>0.887089</td>\n",
       "      <td>[-0.6543644494024464, 0.714506702766182]</td>\n",
       "      <td>55</td>\n",
       "      <td>0.028685</td>\n",
       "    </tr>\n",
       "    <tr>\n",
       "      <th>[4 -4]T</th>\n",
       "      <td>0.887089</td>\n",
       "      <td>[0.714506702766182, -0.6543644494024464]</td>\n",
       "      <td>55</td>\n",
       "      <td>0.028895</td>\n",
       "    </tr>\n",
       "    <tr>\n",
       "      <th>[4 4]T</th>\n",
       "      <td>0.112301</td>\n",
       "      <td>[0.6147008009795467, 0.6147008009795467]</td>\n",
       "      <td>34</td>\n",
       "      <td>0.028859</td>\n",
       "    </tr>\n",
       "  </tbody>\n",
       "</table>\n",
       "</div>"
      ],
      "text/plain": [
       "            best_f                                    best_x fevals  \\\n",
       "[-4 -4]T  0.887089  [-0.6543644494024464, 0.714506702766182]     55   \n",
       "[-4 4]T   0.887089  [-0.6543644494024464, 0.714506702766182]     55   \n",
       "[4 -4]T   0.887089  [0.714506702766182, -0.6543644494024464]     55   \n",
       "[4 4]T    0.112301  [0.6147008009795467, 0.6147008009795467]     34   \n",
       "\n",
       "          run_time (s)  \n",
       "[-4 -4]T      0.014822  \n",
       "[-4 4]T       0.028685  \n",
       "[4 -4]T       0.028895  \n",
       "[4 4]T        0.028859  "
      ]
     },
     "execution_count": 9,
     "metadata": {},
     "output_type": "execute_result"
    }
   ],
   "source": [
    "results_517_ILS[['best_f', 'best_x', 'fevals', 'run_time (s)']]"
   ]
  },
  {
   "cell_type": "markdown",
   "metadata": {},
   "source": [
    "## Exercício 5.20 do Antoniou"
   ]
  },
  {
   "cell_type": "code",
   "execution_count": null,
   "metadata": {},
   "outputs": [],
   "source": []
  }
 ],
 "metadata": {
  "kernelspec": {
   "display_name": "Python 3",
   "language": "python",
   "name": "python3"
  },
  "language_info": {
   "codemirror_mode": {
    "name": "ipython",
    "version": 3
   },
   "file_extension": ".py",
   "mimetype": "text/x-python",
   "name": "python",
   "nbconvert_exporter": "python",
   "pygments_lexer": "ipython3",
   "version": "3.6.6"
  }
 },
 "nbformat": 4,
 "nbformat_minor": 2
}
